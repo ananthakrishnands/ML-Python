{
 "cells": [
  {
   "cell_type": "markdown",
   "metadata": {},
   "source": [
    "# Python for Data Science"
   ]
  },
  {
   "cell_type": "markdown",
   "metadata": {},
   "source": [
    "## Objectives\n",
    "This tutorial plans to give an introduction to Python based tools and packages for big data analytics. This will cover\n",
    "* Why Python\n",
    "* Setting up the environment\n",
    "* Anaconda and Jupyter Notebook\n",
    "* Python Basic data structures and programming constructs\n",
    "* Woking with CSV file\n",
    "* Packages for Data Analytics\n",
    "    * Numpy\n",
    "    * Matplotlib\n",
    "    * Pandas\n",
    "    * Scikitlearn\n",
    "* Case Study- Semantic Analysis"
   ]
  },
  {
   "cell_type": "markdown",
   "metadata": {},
   "source": [
    "## Why learn Python for data science?\n",
    "Here are some reasons which go in favour of learning Python:\n",
    "* Very easy to learn, you can pick up very easily\n",
    "* It is full featured - generic with a lot of libraries\n",
    "* Strong set of data science libraries - the SciPy ecosystem (Pandas, Matplotlib) \n",
    "* Open Source – free to install\n",
    "* Awesome online community\n",
    "\n",
    "It is an interpreted language rather than compiled language – hence might take up more CPU time. \n",
    "\n",
    "**However, it might still be a good choice because the learning curve is not steep.**"
   ]
  },
  {
   "cell_type": "markdown",
   "metadata": {},
   "source": [
    "# Setting up the environment\n",
    "\n",
    "For analysing your data with Python, you have to first set up your programming environment. There are multiple ways to do this. \n",
    "* Interactive Console \n",
    "* iPython Notebook\n",
    "\n",
    "One of the recommended method is iPython notebook. It provides a lot of good features for documenting while writing the code itself and you can choose to run the code in blocks (rather than the line by line execution)\n",
    "\n",
    "We will use iPython environment (Jupyter Notebook) for this complete tutorial.\n",
    "\n",
    "[ANACONDA](https://www.continuum.io/downloads) is the leading open data science platform powered by Python. The open source version of Anaconda is a high performance distribution of Python and R and includes over 100 of the most popular Python, R and Scala packages for data science. Additionally, you'll have access to over 720 packages that can easily be installed with conda, our renowned package, dependency and environment manager, that is included in Anaconda. Anaconda is BSD licensed which gives you permission to use Anaconda commercially and for redistribution.\n",
    "\n",
    "For users of Ubuntu OS, jupyter can be installed using [pip](https://pypi.python.org/pypi/pip).\n"
   ]
  },
  {
   "cell_type": "raw",
   "metadata": {},
   "source": [
    "$ sudo apt-get install pip3   \n",
    "$ sudo pip3 install jupyter\n",
    "\n",
    "$ jupyter notebook    # to start jupyter notebook"
   ]
  },
  {
   "cell_type": "markdown",
   "metadata": {},
   "source": [
    "# The Python Programming Language "
   ]
  },
  {
   "cell_type": "code",
   "execution_count": 1,
   "metadata": {},
   "outputs": [
    {
     "name": "stdout",
     "output_type": "stream",
     "text": [
      "Hello World\n"
     ]
    }
   ],
   "source": [
    "print \"Hello World\""
   ]
  },
  {
   "cell_type": "code",
   "execution_count": 2,
   "metadata": {},
   "outputs": [
    {
     "name": "stdout",
     "output_type": "stream",
     "text": [
      "5\n",
      "1\n",
      "False\n",
      "5\n"
     ]
    }
   ],
   "source": [
    "#Run each instuction and see the output\n",
    "print 2+3\n",
    "x = 1\n",
    "print x\n",
    "y = 20\n",
    "print x == y\n",
    "a=\"hello\"\n",
    "print len(a)"
   ]
  },
  {
   "cell_type": "markdown",
   "metadata": {},
   "source": [
    "## Basic Operations"
   ]
  },
  {
   "cell_type": "code",
   "execution_count": 3,
   "metadata": {},
   "outputs": [
    {
     "name": "stdout",
     "output_type": "stream",
     "text": [
      "<type 'int'>\n",
      "3\n",
      "4\n",
      "2\n",
      "6\n",
      "9\n",
      "4\n",
      "8\n",
      "<type 'float'>\n",
      "2.5 3.5 5.0 6.25\n"
     ]
    }
   ],
   "source": [
    "x = 3\n",
    "print type(x) # Prints \"<type 'int'>\"\n",
    "print x       # Prints \"3\"\n",
    "print x + 1   # Addition; prints \"4\"\n",
    "print x - 1   # Subtraction; prints \"2\"\n",
    "print x * 2   # Multiplication; prints \"6\"\n",
    "print x ** 2  # Exponentiation; prints \"9\"\n",
    "x += 1\n",
    "print x  # Prints \"4\"\n",
    "x *= 2\n",
    "print x  # Prints \"8\"\n",
    "y = 2.5\n",
    "print type(y) # Prints \"<type 'float'>\"\n",
    "print y, y + 1, y * 2, y ** 2"
   ]
  },
  {
   "cell_type": "markdown",
   "metadata": {},
   "source": [
    "## Iterations and Conditions\n",
    "If statement\n"
   ]
  },
  {
   "cell_type": "code",
   "execution_count": 4,
   "metadata": {},
   "outputs": [
    {
     "name": "stdout",
     "output_type": "stream",
     "text": [
      "a>5\n"
     ]
    }
   ],
   "source": [
    "a=10\n",
    "if a>5:\n",
    "    print \"a>5\"\n",
    "elif a>4:\n",
    "    print \"a>4\"\n",
    "else:\n",
    "    print \"Not matching\""
   ]
  },
  {
   "cell_type": "markdown",
   "metadata": {},
   "source": [
    "Use of **in**  to loop through each item in the list."
   ]
  },
  {
   "cell_type": "code",
   "execution_count": 5,
   "metadata": {},
   "outputs": [
    {
     "name": "stdout",
     "output_type": "stream",
     "text": [
      "0\n",
      "1\n",
      "2\n",
      "3\n",
      "4\n",
      "5\n",
      "6\n",
      "7\n",
      "8\n",
      "9\n"
     ]
    }
   ],
   "source": [
    "for i in range(10):\n",
    "    print i"
   ]
  },
  {
   "cell_type": "code",
   "execution_count": 6,
   "metadata": {},
   "outputs": [
    {
     "name": "stdout",
     "output_type": "stream",
     "text": [
      "0\n",
      "1\n",
      "2\n",
      "3\n",
      "4\n",
      "5\n",
      "6\n",
      "7\n",
      "8\n",
      "9\n",
      "10\n"
     ]
    }
   ],
   "source": [
    "i = 0\n",
    "while i <= 10:\n",
    "    print i\n",
    "    i = i +1"
   ]
  },
  {
   "cell_type": "markdown",
   "metadata": {},
   "source": [
    "## Types and Sequences"
   ]
  },
  {
   "cell_type": "code",
   "execution_count": 7,
   "metadata": {},
   "outputs": [
    {
     "data": {
      "text/plain": [
       "builtin_function_or_method"
      ]
     },
     "execution_count": 7,
     "metadata": {},
     "output_type": "execute_result"
    }
   ],
   "source": [
    "type('This is a string')\n",
    "type(None)\n",
    "type(1)\n",
    "type(0)\n",
    "type(type)\n",
    "type(len)"
   ]
  },
  {
   "cell_type": "markdown",
   "metadata": {},
   "source": [
    "## Functions"
   ]
  },
  {
   "cell_type": "code",
   "execution_count": 8,
   "metadata": {},
   "outputs": [
    {
     "name": "stdout",
     "output_type": "stream",
     "text": [
      "Flag is true!\n",
      "3\n"
     ]
    }
   ],
   "source": [
    "def add_numbers(x, y, z=None, flag=False):\n",
    "    if (flag):\n",
    "        print('Flag is true!')\n",
    "    if (z==None):\n",
    "        return x + y\n",
    "    else:\n",
    "        return x + y + z\n",
    "    \n",
    "print(add_numbers(1, 2, flag=True))"
   ]
  },
  {
   "cell_type": "markdown",
   "metadata": {},
   "source": [
    "Assign function add_numbers to variable a."
   ]
  },
  {
   "cell_type": "code",
   "execution_count": 9,
   "metadata": {},
   "outputs": [
    {
     "data": {
      "text/plain": [
       "3"
      ]
     },
     "execution_count": 9,
     "metadata": {},
     "output_type": "execute_result"
    }
   ],
   "source": [
    "def add_numbers(x,y):\n",
    "    return x+y\n",
    "\n",
    "a = add_numbers\n",
    "a(1,2)"
   ]
  },
  {
   "cell_type": "markdown",
   "metadata": {},
   "source": [
    "## Python Data structures\n",
    "Following are some data structures, which are used in Python. You should be familiar with them in order to use them as appropriate.\n",
    "* **Lists**:Lists are one of the most versatile data structure in Python. A list can simply be defined by writing a list of comma separated values in square brackets. Lists might contain items of different types, but usually the items all have the same type. Python lists are mutable and individual elements of a list can be changed.\n",
    "* **String**: Strings can simply be defined by use of single ( ‘ ), double ( ” ) or triple ( ”’ ) inverted commas. Strings enclosed in tripe quotes ( ”’ ) can span over multiple lines and are used frequently in docstrings (Python’s way of documenting functions). \\ is used as an escape character. Please note that Python strings are immutable, so you can not change part of strings.\n",
    "* **Tuples**: A tuple is represented by a number of values separated by commas. Tuples are immutable and the output is surrounded by parentheses so that nested tuples are processed correctly. Additionally, even though tuples are immutable, they can hold mutable data if needed.\n",
    "* **Dictionary**: Dictionary is an unordered set of key: value pairs, with the requirement that the keys are unique (within one dictionary). A pair of braces creates an empty dictionary: {}."
   ]
  },
  {
   "cell_type": "markdown",
   "metadata": {},
   "source": [
    "### Lists"
   ]
  },
  {
   "cell_type": "code",
   "execution_count": 10,
   "metadata": {},
   "outputs": [
    {
     "name": "stdout",
     "output_type": "stream",
     "text": [
      "<type 'list'>\n",
      "6\n",
      "1\n",
      "50\n",
      "[1, 2, 3, 4.5, 'LBS', '50', 100]\n"
     ]
    },
    {
     "data": {
      "text/plain": [
       "[1, 2, 3, 1, 2, 3, 1, 2, 3]"
      ]
     },
     "execution_count": 10,
     "metadata": {},
     "output_type": "execute_result"
    }
   ],
   "source": [
    "a=[]                     #Null list\n",
    "a=[1,2,3,4.5,\"LBS\",\"50\"] #is heterogenous a list\n",
    "print type(a)\n",
    "print len(a)\n",
    "print a[0]\n",
    "print a[-1]\n",
    "\n",
    "a.append(100)             #add new element at the end of list\n",
    "print a\n",
    "a.remove(2)               #Remove second element\n",
    "\n",
    "[1,2] + [3,4]             #concatenate two lists\n",
    "\n",
    "[1,2,3]*3                 #to create by repeating the elements"
   ]
  },
  {
   "cell_type": "markdown",
   "metadata": {},
   "source": [
    "slicing"
   ]
  },
  {
   "cell_type": "code",
   "execution_count": 11,
   "metadata": {},
   "outputs": [
    {
     "data": {
      "text/plain": [
       "[24,\n",
       " 23,\n",
       " 22,\n",
       " 21,\n",
       " 20,\n",
       " 19,\n",
       " 18,\n",
       " 17,\n",
       " 16,\n",
       " 15,\n",
       " 14,\n",
       " 13,\n",
       " 12,\n",
       " 11,\n",
       " 10,\n",
       " 9,\n",
       " 8,\n",
       " 7,\n",
       " 6,\n",
       " 5,\n",
       " 4,\n",
       " 3,\n",
       " 2,\n",
       " 1]"
      ]
     },
     "execution_count": 11,
     "metadata": {},
     "output_type": "execute_result"
    }
   ],
   "source": [
    "a=range(1,25)\n",
    "a[2:5]                   #The right end is exclusive\n",
    "a[-1]\n",
    "a[1:5:2]\n",
    "a[-3:-1]                 \n",
    "a[:]                    \n",
    "a[::]                   \n",
    "a[::2]                  \n",
    "a[::-1]                 "
   ]
  },
  {
   "cell_type": "markdown",
   "metadata": {},
   "source": [
    "### Tuples "
   ]
  },
  {
   "cell_type": "code",
   "execution_count": 12,
   "metadata": {},
   "outputs": [
    {
     "data": {
      "text/plain": [
       "tuple"
      ]
     },
     "execution_count": 12,
     "metadata": {},
     "output_type": "execute_result"
    }
   ],
   "source": [
    "x = (1, 'a', 2, 'b')\n",
    "type(x)\n",
    "#x[0] = 5  #should give error"
   ]
  },
  {
   "cell_type": "markdown",
   "metadata": {},
   "source": [
    "Iterate over the elements using the index of a list / tuple using ** while**"
   ]
  },
  {
   "cell_type": "code",
   "execution_count": 13,
   "metadata": {},
   "outputs": [
    {
     "name": "stdout",
     "output_type": "stream",
     "text": [
      "1\n",
      "2\n",
      "3\n",
      "4\n",
      "5\n"
     ]
    }
   ],
   "source": [
    "x = [1,2,3,4,5]\n",
    "i=0\n",
    "while( i != len(x) ):\n",
    "    print(x[i])\n",
    "    i = i + 1"
   ]
  },
  {
   "cell_type": "markdown",
   "metadata": {},
   "source": [
    "Unpack a sequence into different variables"
   ]
  },
  {
   "cell_type": "code",
   "execution_count": 14,
   "metadata": {
    "collapsed": true
   },
   "outputs": [],
   "source": [
    "x = ('Manu', 'Madhavan', 'manum@gmail.com')\n",
    "fname, lname, email = x"
   ]
  },
  {
   "cell_type": "markdown",
   "metadata": {},
   "source": [
    "## Dictionaries\n",
    "{key: value, .... }"
   ]
  },
  {
   "cell_type": "code",
   "execution_count": 15,
   "metadata": {},
   "outputs": [
    {
     "name": "stdout",
     "output_type": "stream",
     "text": [
      "<type 'dict'>\n",
      "{'Manu Madhavan': None, 'M P Gilesh': 'gileshmp@ieee.org', 'S D Madhu Kumar': 'madhu@nitc.ac.in'}\n"
     ]
    }
   ],
   "source": [
    "dict1 = {'M P Gilesh': 'gileshmp@ieee.org', 'S D Madhu Kumar': 'madhu@nitc.ac.in'}\n",
    "print type(dict1)\n",
    "\n",
    "dict1['Manu Madhavan'] = None\n",
    "print (dict1) "
   ]
  },
  {
   "cell_type": "markdown",
   "metadata": {},
   "source": [
    "Iterate over all keys of the dictionary"
   ]
  },
  {
   "cell_type": "code",
   "execution_count": 16,
   "metadata": {},
   "outputs": [
    {
     "name": "stdout",
     "output_type": "stream",
     "text": [
      "None\n",
      "gileshmp@ieee.org\n",
      "madhu@nitc.ac.in\n"
     ]
    }
   ],
   "source": [
    "for name in dict1:\n",
    "    print(dict1[name])"
   ]
  },
  {
   "cell_type": "markdown",
   "metadata": {},
   "source": [
    "Iterate over all values in the dictionary"
   ]
  },
  {
   "cell_type": "code",
   "execution_count": 17,
   "metadata": {},
   "outputs": [
    {
     "name": "stdout",
     "output_type": "stream",
     "text": [
      "None\n",
      "gileshmp@ieee.org\n",
      "madhu@nitc.ac.in\n"
     ]
    }
   ],
   "source": [
    "for email in dict1.values():\n",
    "    print(email)"
   ]
  },
  {
   "cell_type": "markdown",
   "metadata": {},
   "source": [
    "Build a dictionary"
   ]
  },
  {
   "cell_type": "code",
   "execution_count": 18,
   "metadata": {},
   "outputs": [
    {
     "name": "stdout",
     "output_type": "stream",
     "text": [
      "{'Play': 'Verb', 'Good': 'Adjective', 'Apple': 'Noun', 'Cry': 'Verb', 'Cricket': 'Noun', 'Man': 'Noun'}\n",
      "Apple\n",
      "Cricket\n",
      "Man\n"
     ]
    }
   ],
   "source": [
    "pos={}                   #empty dictionary\n",
    "pos[\"Man\"]=\"Noun\"\n",
    "pos[\"Play\"]=\"Verb\"\n",
    "pos[\"Good\"]=\"Adjective\"\n",
    "pos[\"Apple\"]=\"Noun\"\n",
    "pos[\"Cricket\"]=\"Noun\"\n",
    "pos[\"Cry\"]=\"Verb\"\n",
    "print pos\n",
    "\n",
    "#Print all the nouns in the dictionary\n",
    "for word in pos:\n",
    "    if pos[word]==\"Noun\":\n",
    "        print word"
   ]
  },
  {
   "cell_type": "code",
   "execution_count": null,
   "metadata": {
    "collapsed": true
   },
   "outputs": [],
   "source": []
  },
  {
   "cell_type": "markdown",
   "metadata": {
    "collapsed": true
   },
   "source": [
    "## Strings\n",
    "\n",
    "Basic string operations"
   ]
  },
  {
   "cell_type": "code",
   "execution_count": 19,
   "metadata": {},
   "outputs": [
    {
     "name": "stdout",
     "output_type": "stream",
     "text": [
      "7\n",
      "Michael Jackson\n",
      "MichaelMichaelMichael\n",
      "True\n"
     ]
    }
   ],
   "source": [
    "firstname = 'Michael'\n",
    "lastname = 'Jackson'\n",
    "\n",
    "print len(firstname)\n",
    "print(firstname + ' ' + lastname)\n",
    "print(firstname*3)\n",
    "print('Mic' in firstname)"
   ]
  },
  {
   "cell_type": "markdown",
   "metadata": {},
   "source": [
    "split returns a list of all the words in a string, or a list split on a specific character."
   ]
  },
  {
   "cell_type": "code",
   "execution_count": 6,
   "metadata": {},
   "outputs": [
    {
     "name": "stdout",
     "output_type": "stream",
     "text": [
      "['Martin', 'Luther', 'King', 'Junior']\n",
      "Junior\n"
     ]
    }
   ],
   "source": [
    "firstname = 'Martin Luther King Junior'.split(' ')[0]   # [0] selects the first element of the list\n",
    "lastname = 'Martin Luther King Junior'.split(' ')[-1]   # [-1] selects the last element of the list\n",
    "print 'Martin Luther King Junior'.split(' ')\n",
    "print(lastname)"
   ]
  },
  {
   "cell_type": "code",
   "execution_count": 21,
   "metadata": {},
   "outputs": [
    {
     "name": "stdout",
     "output_type": "stream",
     "text": [
      "The weight is =20\n"
     ]
    }
   ],
   "source": [
    "str1 = 'The weight is ='\n",
    "#print str1 + 20         #Type error\n",
    "print str1 +str(20)"
   ]
  },
  {
   "cell_type": "markdown",
   "metadata": {},
   "source": [
    "String formatting"
   ]
  },
  {
   "cell_type": "code",
   "execution_count": 22,
   "metadata": {},
   "outputs": [
    {
     "name": "stdout",
     "output_type": "stream",
     "text": [
      "Manu scored 100 marks for 4 subjects\n"
     ]
    }
   ],
   "source": [
    "record = {\n",
    "'mark': 100,\n",
    "'num_subj': 4,\n",
    "'person': 'Manu'}        # a dictionary of values\n",
    "\n",
    "statement = '{} scored {} marks for {} subjects'\n",
    "\n",
    "print(statement.format(record['person'],\n",
    "                       record['mark'],\n",
    "                       record['num_subj']))"
   ]
  },
  {
   "cell_type": "markdown",
   "metadata": {},
   "source": [
    "## Map,  Lambda and List Comprehensions\n",
    "\n",
    "Using map to find element wise minimum from two lists"
   ]
  },
  {
   "cell_type": "code",
   "execution_count": 23,
   "metadata": {},
   "outputs": [
    {
     "data": {
      "text/plain": [
       "[9.0, 11.0, 12.34, 2.01]"
      ]
     },
     "execution_count": 23,
     "metadata": {},
     "output_type": "execute_result"
    }
   ],
   "source": [
    "store1 = [10.00, 11.00, 12.34, 2.34]\n",
    "store2 = [9.00, 11.10, 12.34, 2.01]\n",
    "cheapest = map(min, store1, store2)\n",
    "cheapest"
   ]
  },
  {
   "cell_type": "markdown",
   "metadata": {},
   "source": [
    "Lambda function : "
   ]
  },
  {
   "cell_type": "code",
   "execution_count": 24,
   "metadata": {},
   "outputs": [
    {
     "data": {
      "text/plain": [
       "6"
      ]
     },
     "execution_count": 24,
     "metadata": {},
     "output_type": "execute_result"
    }
   ],
   "source": [
    "my_fn = lambda x,y : x *y \n",
    "my_fn (2,3)"
   ]
  },
  {
   "cell_type": "code",
   "execution_count": 25,
   "metadata": {},
   "outputs": [
    {
     "name": "stdout",
     "output_type": "stream",
     "text": [
      "8\n"
     ]
    }
   ],
   "source": [
    "print ((lambda x, y: x**y )(2,3))"
   ]
  },
  {
   "cell_type": "markdown",
   "metadata": {},
   "source": [
    "List Comprehension : "
   ]
  },
  {
   "cell_type": "code",
   "execution_count": 7,
   "metadata": {},
   "outputs": [
    {
     "data": {
      "text/plain": [
       "[0,\n",
       " 2,\n",
       " 4,\n",
       " 6,\n",
       " 8,\n",
       " 10,\n",
       " 12,\n",
       " 14,\n",
       " 16,\n",
       " 18,\n",
       " 20,\n",
       " 22,\n",
       " 24,\n",
       " 26,\n",
       " 28,\n",
       " 30,\n",
       " 32,\n",
       " 34,\n",
       " 36,\n",
       " 38,\n",
       " 40,\n",
       " 42,\n",
       " 44,\n",
       " 46,\n",
       " 48,\n",
       " 50,\n",
       " 52,\n",
       " 54,\n",
       " 56,\n",
       " 58,\n",
       " 60,\n",
       " 62,\n",
       " 64,\n",
       " 66,\n",
       " 68,\n",
       " 70,\n",
       " 72,\n",
       " 74,\n",
       " 76,\n",
       " 78,\n",
       " 80,\n",
       " 82,\n",
       " 84,\n",
       " 86,\n",
       " 88,\n",
       " 90,\n",
       " 92,\n",
       " 94,\n",
       " 96,\n",
       " 98,\n",
       " 100,\n",
       " 102,\n",
       " 104,\n",
       " 106,\n",
       " 108,\n",
       " 110,\n",
       " 112,\n",
       " 114,\n",
       " 116,\n",
       " 118,\n",
       " 120,\n",
       " 122,\n",
       " 124,\n",
       " 126,\n",
       " 128,\n",
       " 130,\n",
       " 132,\n",
       " 134,\n",
       " 136,\n",
       " 138,\n",
       " 140,\n",
       " 142,\n",
       " 144,\n",
       " 146,\n",
       " 148,\n",
       " 150,\n",
       " 152,\n",
       " 154,\n",
       " 156,\n",
       " 158,\n",
       " 160,\n",
       " 162,\n",
       " 164,\n",
       " 166,\n",
       " 168,\n",
       " 170,\n",
       " 172,\n",
       " 174,\n",
       " 176,\n",
       " 178,\n",
       " 180,\n",
       " 182,\n",
       " 184,\n",
       " 186,\n",
       " 188,\n",
       " 190,\n",
       " 192,\n",
       " 194,\n",
       " 196,\n",
       " 198]"
      ]
     },
     "execution_count": 7,
     "metadata": {},
     "output_type": "execute_result"
    }
   ],
   "source": [
    "my_list = []\n",
    "for number in range(0, 200):\n",
    "    if number % 2 == 0:\n",
    "        my_list.append(number)\n",
    "my_list"
   ]
  },
  {
   "cell_type": "markdown",
   "metadata": {},
   "source": [
    "Above code snippert can be replaced by the list comprehension as follows"
   ]
  },
  {
   "cell_type": "code",
   "execution_count": 9,
   "metadata": {},
   "outputs": [
    {
     "data": {
      "text/plain": [
       "<open file 'mpg.csv', mode 'r' at 0x7f2c27104540>"
      ]
     },
     "execution_count": 9,
     "metadata": {},
     "output_type": "execute_result"
    }
   ],
   "source": [
    "open('mpg.csv')\n"
   ]
  },
  {
   "cell_type": "markdown",
   "metadata": {},
   "source": [
    "## Simple Data Analysis using CSV"
   ]
  },
  {
   "cell_type": "markdown",
   "metadata": {},
   "source": [
    "Let's import our datafile mpg.csv, which contains fuel economy data for 234 cars.\n",
    "\n",
    "* mpg : miles per gallon\n",
    "* class : car classification\n",
    "* cty : city mpg\n",
    "* cyl : # of cylinders\n",
    "* displ : engine displacement in liters\n",
    "* drv : f = front-wheel drive, r = rear wheel drive, 4 = 4wd\n",
    "* fl : fuel (e = ethanol E85, d = diesel, r = regular, p = premium, c = CNG)\n",
    "* hwy : highway mpg\n",
    "* manufacturer : automobile manufacturer\n",
    "* model : model of car\n",
    "* trans : type of transmission\n",
    "* year : model year"
   ]
  },
  {
   "cell_type": "markdown",
   "metadata": {},
   "source": [
    "see  the contents of the CSV file"
   ]
  },
  {
   "cell_type": "code",
   "execution_count": 28,
   "metadata": {},
   "outputs": [
    {
     "name": "stdout",
     "output_type": "stream",
     "text": [
      "\"\",\"manufacturer\",\"model\",\"displ\",\"year\",\"cyl\",\"trans\",\"drv\",\"cty\",\"hwy\",\"fl\",\"class\"\r\n",
      "\"1\",\"audi\",\"a4\",1.8,1999,4,\"auto(l5)\",\"f\",18,29,\"p\",\"compact\"\r\n",
      "\"2\",\"audi\",\"a4\",1.8,1999,4,\"manual(m5)\",\"f\",21,29,\"p\",\"compact\"\r\n",
      "\"3\",\"audi\",\"a4\",2,2008,4,\"manual(m6)\",\"f\",20,31,\"p\",\"compact\"\r\n",
      "\"4\",\"audi\",\"a4\",2,2008,4,\"auto(av)\",\"f\",21,30,\"p\",\"compact\"\r\n",
      "\"5\",\"audi\",\"a4\",2.8,1999,6,\"auto(l5)\",\"f\",16,26,\"p\",\"compact\"\r\n",
      "\"6\",\"audi\",\"a4\",2.8,1999,6,\"manual(m5)\",\"f\",18,26,\"p\",\"compact\"\r\n",
      "\"7\",\"audi\",\"a4\",3.1,2008,6,\"auto(av)\",\"f\",18,27,\"p\",\"compact\"\r\n",
      "\"8\",\"audi\",\"a4 quattro\",1.8,1999,4,\"manual(m5)\",\"4\",18,26,\"p\",\"compact\"\r\n",
      "\"9\",\"audi\",\"a4 quattro\",1.8,1999,4,\"auto(l5)\",\"4\",16,25,\"p\",\"compact\"\r\n",
      "\"10\",\"audi\",\"a4 quattro\",2,2008,4,\"manual(m6)\",\"4\",20,28,\"p\",\"compact\"\r\n",
      "\"11\",\"audi\",\"a4 quattro\",2,2008,4,\"auto(s6)\",\"4\",19,27,\"p\",\"compact\"\r\n",
      "\"12\",\"audi\",\"a4 quattro\",2.8,1999,6,\"auto(l5)\",\"4\",15,25,\"p\",\"compact\"\r\n",
      "\"13\",\"audi\",\"a4 quattro\",2.8,1999,6,\"manual(m5)\",\"4\",17,25,\"p\",\"compact\"\r\n",
      "\"14\",\"audi\",\"a4 quattro\",3.1,2008,6,\"auto(s6)\",\"4\",17,25,\"p\",\"compact\"\r\n",
      "\"15\",\"audi\",\"a4 quattro\",3.1,2008,6,\"manual(m6)\",\"4\",15,25,\"p\",\"compact\"\r\n",
      "\"16\",\"audi\",\"a6 quattro\",2.8,1999,6,\"auto(l5)\",\"4\",15,24,\"p\",\"midsize\"\r\n",
      "\"17\",\"audi\",\"a6 quattro\",3.1,2008,6,\"auto(s6)\",\"4\",17,25,\"p\",\"midsize\"\r\n",
      "\"18\",\"audi\",\"a6 quattro\",4.2,2008,8,\"auto(s6)\",\"4\",16,23,\"p\",\"midsize\"\r\n",
      "\"19\",\"chevrolet\",\"c1500 suburban 2wd\",5.3,2008,8,\"auto(l4)\",\"r\",14,20,\"r\",\"suv\"\r\n",
      "\"20\",\"chevrolet\",\"c1500 suburban 2wd\",5.3,2008,8,\"auto(l4)\",\"r\",11,15,\"e\",\"suv\"\r\n",
      "\"21\",\"chevrolet\",\"c1500 suburban 2wd\",5.3,2008,8,\"auto(l4)\",\"r\",14,20,\"r\",\"suv\"\r\n",
      "\"22\",\"chevrolet\",\"c1500 suburban 2wd\",5.7,1999,8,\"auto(l4)\",\"r\",13,17,\"r\",\"suv\"\r\n",
      "\"23\",\"chevrolet\",\"c1500 suburban 2wd\",6,2008,8,\"auto(l4)\",\"r\",12,17,\"r\",\"suv\"\r\n",
      "\"24\",\"chevrolet\",\"corvette\",5.7,1999,8,\"manual(m6)\",\"r\",16,26,\"p\",\"2seater\"\r\n",
      "\"25\",\"chevrolet\",\"corvette\",5.7,1999,8,\"auto(l4)\",\"r\",15,23,\"p\",\"2seater\"\r\n",
      "\"26\",\"chevrolet\",\"corvette\",6.2,2008,8,\"manual(m6)\",\"r\",16,26,\"p\",\"2seater\"\r\n",
      "\"27\",\"chevrolet\",\"corvette\",6.2,2008,8,\"auto(s6)\",\"r\",15,25,\"p\",\"2seater\"\r\n",
      "\"28\",\"chevrolet\",\"corvette\",7,2008,8,\"manual(m6)\",\"r\",15,24,\"p\",\"2seater\"\r\n",
      "\"29\",\"chevrolet\",\"k1500 tahoe 4wd\",5.3,2008,8,\"auto(l4)\",\"4\",14,19,\"r\",\"suv\"\r\n",
      "\"30\",\"chevrolet\",\"k1500 tahoe 4wd\",5.3,2008,8,\"auto(l4)\",\"4\",11,14,\"e\",\"suv\"\r\n",
      "\"31\",\"chevrolet\",\"k1500 tahoe 4wd\",5.7,1999,8,\"auto(l4)\",\"4\",11,15,\"r\",\"suv\"\r\n",
      "\"32\",\"chevrolet\",\"k1500 tahoe 4wd\",6.5,1999,8,\"auto(l4)\",\"4\",14,17,\"d\",\"suv\"\r\n",
      "\"33\",\"chevrolet\",\"malibu\",2.4,1999,4,\"auto(l4)\",\"f\",19,27,\"r\",\"midsize\"\r\n",
      "\"34\",\"chevrolet\",\"malibu\",2.4,2008,4,\"auto(l4)\",\"f\",22,30,\"r\",\"midsize\"\r\n",
      "\"35\",\"chevrolet\",\"malibu\",3.1,1999,6,\"auto(l4)\",\"f\",18,26,\"r\",\"midsize\"\r\n",
      "\"36\",\"chevrolet\",\"malibu\",3.5,2008,6,\"auto(l4)\",\"f\",18,29,\"r\",\"midsize\"\r\n",
      "\"37\",\"chevrolet\",\"malibu\",3.6,2008,6,\"auto(s6)\",\"f\",17,26,\"r\",\"midsize\"\r\n",
      "\"38\",\"dodge\",\"caravan 2wd\",2.4,1999,4,\"auto(l3)\",\"f\",18,24,\"r\",\"minivan\"\r\n",
      "\"39\",\"dodge\",\"caravan 2wd\",3,1999,6,\"auto(l4)\",\"f\",17,24,\"r\",\"minivan\"\r\n",
      "\"40\",\"dodge\",\"caravan 2wd\",3.3,1999,6,\"auto(l4)\",\"f\",16,22,\"r\",\"minivan\"\r\n",
      "\"41\",\"dodge\",\"caravan 2wd\",3.3,1999,6,\"auto(l4)\",\"f\",16,22,\"r\",\"minivan\"\r\n",
      "\"42\",\"dodge\",\"caravan 2wd\",3.3,2008,6,\"auto(l4)\",\"f\",17,24,\"r\",\"minivan\"\r\n",
      "\"43\",\"dodge\",\"caravan 2wd\",3.3,2008,6,\"auto(l4)\",\"f\",17,24,\"r\",\"minivan\"\r\n",
      "\"44\",\"dodge\",\"caravan 2wd\",3.3,2008,6,\"auto(l4)\",\"f\",11,17,\"e\",\"minivan\"\r\n",
      "\"45\",\"dodge\",\"caravan 2wd\",3.8,1999,6,\"auto(l4)\",\"f\",15,22,\"r\",\"minivan\"\r\n",
      "\"46\",\"dodge\",\"caravan 2wd\",3.8,1999,6,\"auto(l4)\",\"f\",15,21,\"r\",\"minivan\"\r\n",
      "\"47\",\"dodge\",\"caravan 2wd\",3.8,2008,6,\"auto(l6)\",\"f\",16,23,\"r\",\"minivan\"\r\n",
      "\"48\",\"dodge\",\"caravan 2wd\",4,2008,6,\"auto(l6)\",\"f\",16,23,\"r\",\"minivan\"\r\n",
      "\"49\",\"dodge\",\"dakota pickup 4wd\",3.7,2008,6,\"manual(m6)\",\"4\",15,19,\"r\",\"pickup\"\r\n",
      "\"50\",\"dodge\",\"dakota pickup 4wd\",3.7,2008,6,\"auto(l4)\",\"4\",14,18,\"r\",\"pickup\"\r\n",
      "\"51\",\"dodge\",\"dakota pickup 4wd\",3.9,1999,6,\"auto(l4)\",\"4\",13,17,\"r\",\"pickup\"\r\n",
      "\"52\",\"dodge\",\"dakota pickup 4wd\",3.9,1999,6,\"manual(m5)\",\"4\",14,17,\"r\",\"pickup\"\r\n",
      "\"53\",\"dodge\",\"dakota pickup 4wd\",4.7,2008,8,\"auto(l5)\",\"4\",14,19,\"r\",\"pickup\"\r\n",
      "\"54\",\"dodge\",\"dakota pickup 4wd\",4.7,2008,8,\"auto(l5)\",\"4\",14,19,\"r\",\"pickup\"\r\n",
      "\"55\",\"dodge\",\"dakota pickup 4wd\",4.7,2008,8,\"auto(l5)\",\"4\",9,12,\"e\",\"pickup\"\r\n",
      "\"56\",\"dodge\",\"dakota pickup 4wd\",5.2,1999,8,\"manual(m5)\",\"4\",11,17,\"r\",\"pickup\"\r\n",
      "\"57\",\"dodge\",\"dakota pickup 4wd\",5.2,1999,8,\"auto(l4)\",\"4\",11,15,\"r\",\"pickup\"\r\n",
      "\"58\",\"dodge\",\"durango 4wd\",3.9,1999,6,\"auto(l4)\",\"4\",13,17,\"r\",\"suv\"\r\n",
      "\"59\",\"dodge\",\"durango 4wd\",4.7,2008,8,\"auto(l5)\",\"4\",13,17,\"r\",\"suv\"\r\n",
      "\"60\",\"dodge\",\"durango 4wd\",4.7,2008,8,\"auto(l5)\",\"4\",9,12,\"e\",\"suv\"\r\n",
      "\"61\",\"dodge\",\"durango 4wd\",4.7,2008,8,\"auto(l5)\",\"4\",13,17,\"r\",\"suv\"\r\n",
      "\"62\",\"dodge\",\"durango 4wd\",5.2,1999,8,\"auto(l4)\",\"4\",11,16,\"r\",\"suv\"\r\n",
      "\"63\",\"dodge\",\"durango 4wd\",5.7,2008,8,\"auto(l5)\",\"4\",13,18,\"r\",\"suv\"\r\n",
      "\"64\",\"dodge\",\"durango 4wd\",5.9,1999,8,\"auto(l4)\",\"4\",11,15,\"r\",\"suv\"\r\n",
      "\"65\",\"dodge\",\"ram 1500 pickup 4wd\",4.7,2008,8,\"manual(m6)\",\"4\",12,16,\"r\",\"pickup\"\r\n",
      "\"66\",\"dodge\",\"ram 1500 pickup 4wd\",4.7,2008,8,\"auto(l5)\",\"4\",9,12,\"e\",\"pickup\"\r\n",
      "\"67\",\"dodge\",\"ram 1500 pickup 4wd\",4.7,2008,8,\"auto(l5)\",\"4\",13,17,\"r\",\"pickup\"\r\n",
      "\"68\",\"dodge\",\"ram 1500 pickup 4wd\",4.7,2008,8,\"auto(l5)\",\"4\",13,17,\"r\",\"pickup\"\r\n",
      "\"69\",\"dodge\",\"ram 1500 pickup 4wd\",4.7,2008,8,\"manual(m6)\",\"4\",12,16,\"r\",\"pickup\"\r\n",
      "\"70\",\"dodge\",\"ram 1500 pickup 4wd\",4.7,2008,8,\"manual(m6)\",\"4\",9,12,\"e\",\"pickup\"\r\n",
      "\"71\",\"dodge\",\"ram 1500 pickup 4wd\",5.2,1999,8,\"auto(l4)\",\"4\",11,15,\"r\",\"pickup\"\r\n",
      "\"72\",\"dodge\",\"ram 1500 pickup 4wd\",5.2,1999,8,\"manual(m5)\",\"4\",11,16,\"r\",\"pickup\"\r\n",
      "\"73\",\"dodge\",\"ram 1500 pickup 4wd\",5.7,2008,8,\"auto(l5)\",\"4\",13,17,\"r\",\"pickup\"\r\n",
      "\"74\",\"dodge\",\"ram 1500 pickup 4wd\",5.9,1999,8,\"auto(l4)\",\"4\",11,15,\"r\",\"pickup\"\r\n",
      "\"75\",\"ford\",\"expedition 2wd\",4.6,1999,8,\"auto(l4)\",\"r\",11,17,\"r\",\"suv\"\r\n",
      "\"76\",\"ford\",\"expedition 2wd\",5.4,1999,8,\"auto(l4)\",\"r\",11,17,\"r\",\"suv\"\r\n",
      "\"77\",\"ford\",\"expedition 2wd\",5.4,2008,8,\"auto(l6)\",\"r\",12,18,\"r\",\"suv\"\r\n",
      "\"78\",\"ford\",\"explorer 4wd\",4,1999,6,\"auto(l5)\",\"4\",14,17,\"r\",\"suv\"\r\n",
      "\"79\",\"ford\",\"explorer 4wd\",4,1999,6,\"manual(m5)\",\"4\",15,19,\"r\",\"suv\"\r\n",
      "\"80\",\"ford\",\"explorer 4wd\",4,1999,6,\"auto(l5)\",\"4\",14,17,\"r\",\"suv\"\r\n",
      "\"81\",\"ford\",\"explorer 4wd\",4,2008,6,\"auto(l5)\",\"4\",13,19,\"r\",\"suv\"\r\n",
      "\"82\",\"ford\",\"explorer 4wd\",4.6,2008,8,\"auto(l6)\",\"4\",13,19,\"r\",\"suv\"\r\n",
      "\"83\",\"ford\",\"explorer 4wd\",5,1999,8,\"auto(l4)\",\"4\",13,17,\"r\",\"suv\"\r\n",
      "\"84\",\"ford\",\"f150 pickup 4wd\",4.2,1999,6,\"auto(l4)\",\"4\",14,17,\"r\",\"pickup\"\r\n",
      "\"85\",\"ford\",\"f150 pickup 4wd\",4.2,1999,6,\"manual(m5)\",\"4\",14,17,\"r\",\"pickup\"\r\n",
      "\"86\",\"ford\",\"f150 pickup 4wd\",4.6,1999,8,\"manual(m5)\",\"4\",13,16,\"r\",\"pickup\"\r\n",
      "\"87\",\"ford\",\"f150 pickup 4wd\",4.6,1999,8,\"auto(l4)\",\"4\",13,16,\"r\",\"pickup\"\r\n",
      "\"88\",\"ford\",\"f150 pickup 4wd\",4.6,2008,8,\"auto(l4)\",\"4\",13,17,\"r\",\"pickup\"\r\n",
      "\"89\",\"ford\",\"f150 pickup 4wd\",5.4,1999,8,\"auto(l4)\",\"4\",11,15,\"r\",\"pickup\"\r\n",
      "\"90\",\"ford\",\"f150 pickup 4wd\",5.4,2008,8,\"auto(l4)\",\"4\",13,17,\"r\",\"pickup\"\r\n",
      "\"91\",\"ford\",\"mustang\",3.8,1999,6,\"manual(m5)\",\"r\",18,26,\"r\",\"subcompact\"\r\n",
      "\"92\",\"ford\",\"mustang\",3.8,1999,6,\"auto(l4)\",\"r\",18,25,\"r\",\"subcompact\"\r\n",
      "\"93\",\"ford\",\"mustang\",4,2008,6,\"manual(m5)\",\"r\",17,26,\"r\",\"subcompact\"\r\n",
      "\"94\",\"ford\",\"mustang\",4,2008,6,\"auto(l5)\",\"r\",16,24,\"r\",\"subcompact\"\r\n",
      "\"95\",\"ford\",\"mustang\",4.6,1999,8,\"auto(l4)\",\"r\",15,21,\"r\",\"subcompact\"\r\n",
      "\"96\",\"ford\",\"mustang\",4.6,1999,8,\"manual(m5)\",\"r\",15,22,\"r\",\"subcompact\"\r\n",
      "\"97\",\"ford\",\"mustang\",4.6,2008,8,\"manual(m5)\",\"r\",15,23,\"r\",\"subcompact\"\r\n",
      "\"98\",\"ford\",\"mustang\",4.6,2008,8,\"auto(l5)\",\"r\",15,22,\"r\",\"subcompact\"\r\n",
      "\"99\",\"ford\",\"mustang\",5.4,2008,8,\"manual(m6)\",\"r\",14,20,\"p\",\"subcompact\"\r\n",
      "\"100\",\"honda\",\"civic\",1.6,1999,4,\"manual(m5)\",\"f\",28,33,\"r\",\"subcompact\"\r\n",
      "\"101\",\"honda\",\"civic\",1.6,1999,4,\"auto(l4)\",\"f\",24,32,\"r\",\"subcompact\"\r\n",
      "\"102\",\"honda\",\"civic\",1.6,1999,4,\"manual(m5)\",\"f\",25,32,\"r\",\"subcompact\"\r\n",
      "\"103\",\"honda\",\"civic\",1.6,1999,4,\"manual(m5)\",\"f\",23,29,\"p\",\"subcompact\"\r\n",
      "\"104\",\"honda\",\"civic\",1.6,1999,4,\"auto(l4)\",\"f\",24,32,\"r\",\"subcompact\"\r\n",
      "\"105\",\"honda\",\"civic\",1.8,2008,4,\"manual(m5)\",\"f\",26,34,\"r\",\"subcompact\"\r\n",
      "\"106\",\"honda\",\"civic\",1.8,2008,4,\"auto(l5)\",\"f\",25,36,\"r\",\"subcompact\"\r\n",
      "\"107\",\"honda\",\"civic\",1.8,2008,4,\"auto(l5)\",\"f\",24,36,\"c\",\"subcompact\"\r\n",
      "\"108\",\"honda\",\"civic\",2,2008,4,\"manual(m6)\",\"f\",21,29,\"p\",\"subcompact\"\r\n",
      "\"109\",\"hyundai\",\"sonata\",2.4,1999,4,\"auto(l4)\",\"f\",18,26,\"r\",\"midsize\"\r\n",
      "\"110\",\"hyundai\",\"sonata\",2.4,1999,4,\"manual(m5)\",\"f\",18,27,\"r\",\"midsize\"\r\n",
      "\"111\",\"hyundai\",\"sonata\",2.4,2008,4,\"auto(l4)\",\"f\",21,30,\"r\",\"midsize\"\r\n",
      "\"112\",\"hyundai\",\"sonata\",2.4,2008,4,\"manual(m5)\",\"f\",21,31,\"r\",\"midsize\"\r\n",
      "\"113\",\"hyundai\",\"sonata\",2.5,1999,6,\"auto(l4)\",\"f\",18,26,\"r\",\"midsize\"\r\n",
      "\"114\",\"hyundai\",\"sonata\",2.5,1999,6,\"manual(m5)\",\"f\",18,26,\"r\",\"midsize\"\r\n",
      "\"115\",\"hyundai\",\"sonata\",3.3,2008,6,\"auto(l5)\",\"f\",19,28,\"r\",\"midsize\"\r\n",
      "\"116\",\"hyundai\",\"tiburon\",2,1999,4,\"auto(l4)\",\"f\",19,26,\"r\",\"subcompact\"\r\n",
      "\"117\",\"hyundai\",\"tiburon\",2,1999,4,\"manual(m5)\",\"f\",19,29,\"r\",\"subcompact\"\r\n",
      "\"118\",\"hyundai\",\"tiburon\",2,2008,4,\"manual(m5)\",\"f\",20,28,\"r\",\"subcompact\"\r\n",
      "\"119\",\"hyundai\",\"tiburon\",2,2008,4,\"auto(l4)\",\"f\",20,27,\"r\",\"subcompact\"\r\n",
      "\"120\",\"hyundai\",\"tiburon\",2.7,2008,6,\"auto(l4)\",\"f\",17,24,\"r\",\"subcompact\"\r\n",
      "\"121\",\"hyundai\",\"tiburon\",2.7,2008,6,\"manual(m6)\",\"f\",16,24,\"r\",\"subcompact\"\r\n",
      "\"122\",\"hyundai\",\"tiburon\",2.7,2008,6,\"manual(m5)\",\"f\",17,24,\"r\",\"subcompact\"\r\n",
      "\"123\",\"jeep\",\"grand cherokee 4wd\",3,2008,6,\"auto(l5)\",\"4\",17,22,\"d\",\"suv\"\r\n",
      "\"124\",\"jeep\",\"grand cherokee 4wd\",3.7,2008,6,\"auto(l5)\",\"4\",15,19,\"r\",\"suv\"\r\n",
      "\"125\",\"jeep\",\"grand cherokee 4wd\",4,1999,6,\"auto(l4)\",\"4\",15,20,\"r\",\"suv\"\r\n",
      "\"126\",\"jeep\",\"grand cherokee 4wd\",4.7,1999,8,\"auto(l4)\",\"4\",14,17,\"r\",\"suv\"\r\n",
      "\"127\",\"jeep\",\"grand cherokee 4wd\",4.7,2008,8,\"auto(l5)\",\"4\",9,12,\"e\",\"suv\"\r\n",
      "\"128\",\"jeep\",\"grand cherokee 4wd\",4.7,2008,8,\"auto(l5)\",\"4\",14,19,\"r\",\"suv\"\r\n",
      "\"129\",\"jeep\",\"grand cherokee 4wd\",5.7,2008,8,\"auto(l5)\",\"4\",13,18,\"r\",\"suv\"\r\n",
      "\"130\",\"jeep\",\"grand cherokee 4wd\",6.1,2008,8,\"auto(l5)\",\"4\",11,14,\"p\",\"suv\"\r\n",
      "\"131\",\"land rover\",\"range rover\",4,1999,8,\"auto(l4)\",\"4\",11,15,\"p\",\"suv\"\r\n",
      "\"132\",\"land rover\",\"range rover\",4.2,2008,8,\"auto(s6)\",\"4\",12,18,\"r\",\"suv\"\r\n",
      "\"133\",\"land rover\",\"range rover\",4.4,2008,8,\"auto(s6)\",\"4\",12,18,\"r\",\"suv\"\r\n",
      "\"134\",\"land rover\",\"range rover\",4.6,1999,8,\"auto(l4)\",\"4\",11,15,\"p\",\"suv\"\r\n",
      "\"135\",\"lincoln\",\"navigator 2wd\",5.4,1999,8,\"auto(l4)\",\"r\",11,17,\"r\",\"suv\"\r\n",
      "\"136\",\"lincoln\",\"navigator 2wd\",5.4,1999,8,\"auto(l4)\",\"r\",11,16,\"p\",\"suv\"\r\n",
      "\"137\",\"lincoln\",\"navigator 2wd\",5.4,2008,8,\"auto(l6)\",\"r\",12,18,\"r\",\"suv\"\r\n",
      "\"138\",\"mercury\",\"mountaineer 4wd\",4,1999,6,\"auto(l5)\",\"4\",14,17,\"r\",\"suv\"\r\n",
      "\"139\",\"mercury\",\"mountaineer 4wd\",4,2008,6,\"auto(l5)\",\"4\",13,19,\"r\",\"suv\"\r\n",
      "\"140\",\"mercury\",\"mountaineer 4wd\",4.6,2008,8,\"auto(l6)\",\"4\",13,19,\"r\",\"suv\"\r\n",
      "\"141\",\"mercury\",\"mountaineer 4wd\",5,1999,8,\"auto(l4)\",\"4\",13,17,\"r\",\"suv\"\r\n",
      "\"142\",\"nissan\",\"altima\",2.4,1999,4,\"manual(m5)\",\"f\",21,29,\"r\",\"compact\"\r\n",
      "\"143\",\"nissan\",\"altima\",2.4,1999,4,\"auto(l4)\",\"f\",19,27,\"r\",\"compact\"\r\n",
      "\"144\",\"nissan\",\"altima\",2.5,2008,4,\"auto(av)\",\"f\",23,31,\"r\",\"midsize\"\r\n",
      "\"145\",\"nissan\",\"altima\",2.5,2008,4,\"manual(m6)\",\"f\",23,32,\"r\",\"midsize\"\r\n",
      "\"146\",\"nissan\",\"altima\",3.5,2008,6,\"manual(m6)\",\"f\",19,27,\"p\",\"midsize\"\r\n",
      "\"147\",\"nissan\",\"altima\",3.5,2008,6,\"auto(av)\",\"f\",19,26,\"p\",\"midsize\"\r\n",
      "\"148\",\"nissan\",\"maxima\",3,1999,6,\"auto(l4)\",\"f\",18,26,\"r\",\"midsize\"\r\n",
      "\"149\",\"nissan\",\"maxima\",3,1999,6,\"manual(m5)\",\"f\",19,25,\"r\",\"midsize\"\r\n",
      "\"150\",\"nissan\",\"maxima\",3.5,2008,6,\"auto(av)\",\"f\",19,25,\"p\",\"midsize\"\r\n",
      "\"151\",\"nissan\",\"pathfinder 4wd\",3.3,1999,6,\"auto(l4)\",\"4\",14,17,\"r\",\"suv\"\r\n",
      "\"152\",\"nissan\",\"pathfinder 4wd\",3.3,1999,6,\"manual(m5)\",\"4\",15,17,\"r\",\"suv\"\r\n",
      "\"153\",\"nissan\",\"pathfinder 4wd\",4,2008,6,\"auto(l5)\",\"4\",14,20,\"p\",\"suv\"\r\n",
      "\"154\",\"nissan\",\"pathfinder 4wd\",5.6,2008,8,\"auto(s5)\",\"4\",12,18,\"p\",\"suv\"\r\n",
      "\"155\",\"pontiac\",\"grand prix\",3.1,1999,6,\"auto(l4)\",\"f\",18,26,\"r\",\"midsize\"\r\n",
      "\"156\",\"pontiac\",\"grand prix\",3.8,1999,6,\"auto(l4)\",\"f\",16,26,\"p\",\"midsize\"\r\n",
      "\"157\",\"pontiac\",\"grand prix\",3.8,1999,6,\"auto(l4)\",\"f\",17,27,\"r\",\"midsize\"\r\n",
      "\"158\",\"pontiac\",\"grand prix\",3.8,2008,6,\"auto(l4)\",\"f\",18,28,\"r\",\"midsize\"\r\n",
      "\"159\",\"pontiac\",\"grand prix\",5.3,2008,8,\"auto(s4)\",\"f\",16,25,\"p\",\"midsize\"\r\n",
      "\"160\",\"subaru\",\"forester awd\",2.5,1999,4,\"manual(m5)\",\"4\",18,25,\"r\",\"suv\"\r\n",
      "\"161\",\"subaru\",\"forester awd\",2.5,1999,4,\"auto(l4)\",\"4\",18,24,\"r\",\"suv\"\r\n",
      "\"162\",\"subaru\",\"forester awd\",2.5,2008,4,\"manual(m5)\",\"4\",20,27,\"r\",\"suv\"\r\n",
      "\"163\",\"subaru\",\"forester awd\",2.5,2008,4,\"manual(m5)\",\"4\",19,25,\"p\",\"suv\"\r\n",
      "\"164\",\"subaru\",\"forester awd\",2.5,2008,4,\"auto(l4)\",\"4\",20,26,\"r\",\"suv\"\r\n",
      "\"165\",\"subaru\",\"forester awd\",2.5,2008,4,\"auto(l4)\",\"4\",18,23,\"p\",\"suv\"\r\n",
      "\"166\",\"subaru\",\"impreza awd\",2.2,1999,4,\"auto(l4)\",\"4\",21,26,\"r\",\"subcompact\"\r\n",
      "\"167\",\"subaru\",\"impreza awd\",2.2,1999,4,\"manual(m5)\",\"4\",19,26,\"r\",\"subcompact\"\r\n",
      "\"168\",\"subaru\",\"impreza awd\",2.5,1999,4,\"manual(m5)\",\"4\",19,26,\"r\",\"subcompact\"\r\n",
      "\"169\",\"subaru\",\"impreza awd\",2.5,1999,4,\"auto(l4)\",\"4\",19,26,\"r\",\"subcompact\"\r\n",
      "\"170\",\"subaru\",\"impreza awd\",2.5,2008,4,\"auto(s4)\",\"4\",20,25,\"p\",\"compact\"\r\n",
      "\"171\",\"subaru\",\"impreza awd\",2.5,2008,4,\"auto(s4)\",\"4\",20,27,\"r\",\"compact\"\r\n",
      "\"172\",\"subaru\",\"impreza awd\",2.5,2008,4,\"manual(m5)\",\"4\",19,25,\"p\",\"compact\"\r\n",
      "\"173\",\"subaru\",\"impreza awd\",2.5,2008,4,\"manual(m5)\",\"4\",20,27,\"r\",\"compact\"\r\n",
      "\"174\",\"toyota\",\"4runner 4wd\",2.7,1999,4,\"manual(m5)\",\"4\",15,20,\"r\",\"suv\"\r\n",
      "\"175\",\"toyota\",\"4runner 4wd\",2.7,1999,4,\"auto(l4)\",\"4\",16,20,\"r\",\"suv\"\r\n",
      "\"176\",\"toyota\",\"4runner 4wd\",3.4,1999,6,\"auto(l4)\",\"4\",15,19,\"r\",\"suv\"\r\n",
      "\"177\",\"toyota\",\"4runner 4wd\",3.4,1999,6,\"manual(m5)\",\"4\",15,17,\"r\",\"suv\"\r\n",
      "\"178\",\"toyota\",\"4runner 4wd\",4,2008,6,\"auto(l5)\",\"4\",16,20,\"r\",\"suv\"\r\n",
      "\"179\",\"toyota\",\"4runner 4wd\",4.7,2008,8,\"auto(l5)\",\"4\",14,17,\"r\",\"suv\"\r\n",
      "\"180\",\"toyota\",\"camry\",2.2,1999,4,\"manual(m5)\",\"f\",21,29,\"r\",\"midsize\"\r\n",
      "\"181\",\"toyota\",\"camry\",2.2,1999,4,\"auto(l4)\",\"f\",21,27,\"r\",\"midsize\"\r\n",
      "\"182\",\"toyota\",\"camry\",2.4,2008,4,\"manual(m5)\",\"f\",21,31,\"r\",\"midsize\"\r\n",
      "\"183\",\"toyota\",\"camry\",2.4,2008,4,\"auto(l5)\",\"f\",21,31,\"r\",\"midsize\"\r\n",
      "\"184\",\"toyota\",\"camry\",3,1999,6,\"auto(l4)\",\"f\",18,26,\"r\",\"midsize\"\r\n",
      "\"185\",\"toyota\",\"camry\",3,1999,6,\"manual(m5)\",\"f\",18,26,\"r\",\"midsize\"\r\n",
      "\"186\",\"toyota\",\"camry\",3.5,2008,6,\"auto(s6)\",\"f\",19,28,\"r\",\"midsize\"\r\n",
      "\"187\",\"toyota\",\"camry solara\",2.2,1999,4,\"auto(l4)\",\"f\",21,27,\"r\",\"compact\"\r\n",
      "\"188\",\"toyota\",\"camry solara\",2.2,1999,4,\"manual(m5)\",\"f\",21,29,\"r\",\"compact\"\r\n",
      "\"189\",\"toyota\",\"camry solara\",2.4,2008,4,\"manual(m5)\",\"f\",21,31,\"r\",\"compact\"\r\n",
      "\"190\",\"toyota\",\"camry solara\",2.4,2008,4,\"auto(s5)\",\"f\",22,31,\"r\",\"compact\"\r\n",
      "\"191\",\"toyota\",\"camry solara\",3,1999,6,\"auto(l4)\",\"f\",18,26,\"r\",\"compact\"\r\n",
      "\"192\",\"toyota\",\"camry solara\",3,1999,6,\"manual(m5)\",\"f\",18,26,\"r\",\"compact\"\r\n",
      "\"193\",\"toyota\",\"camry solara\",3.3,2008,6,\"auto(s5)\",\"f\",18,27,\"r\",\"compact\"\r\n",
      "\"194\",\"toyota\",\"corolla\",1.8,1999,4,\"auto(l3)\",\"f\",24,30,\"r\",\"compact\"\r\n",
      "\"195\",\"toyota\",\"corolla\",1.8,1999,4,\"auto(l4)\",\"f\",24,33,\"r\",\"compact\"\r\n",
      "\"196\",\"toyota\",\"corolla\",1.8,1999,4,\"manual(m5)\",\"f\",26,35,\"r\",\"compact\"\r\n",
      "\"197\",\"toyota\",\"corolla\",1.8,2008,4,\"manual(m5)\",\"f\",28,37,\"r\",\"compact\"\r\n",
      "\"198\",\"toyota\",\"corolla\",1.8,2008,4,\"auto(l4)\",\"f\",26,35,\"r\",\"compact\"\r\n",
      "\"199\",\"toyota\",\"land cruiser wagon 4wd\",4.7,1999,8,\"auto(l4)\",\"4\",11,15,\"r\",\"suv\"\r\n",
      "\"200\",\"toyota\",\"land cruiser wagon 4wd\",5.7,2008,8,\"auto(s6)\",\"4\",13,18,\"r\",\"suv\"\r\n",
      "\"201\",\"toyota\",\"toyota tacoma 4wd\",2.7,1999,4,\"manual(m5)\",\"4\",15,20,\"r\",\"pickup\"\r\n",
      "\"202\",\"toyota\",\"toyota tacoma 4wd\",2.7,1999,4,\"auto(l4)\",\"4\",16,20,\"r\",\"pickup\"\r\n",
      "\"203\",\"toyota\",\"toyota tacoma 4wd\",2.7,2008,4,\"manual(m5)\",\"4\",17,22,\"r\",\"pickup\"\r\n",
      "\"204\",\"toyota\",\"toyota tacoma 4wd\",3.4,1999,6,\"manual(m5)\",\"4\",15,17,\"r\",\"pickup\"\r\n",
      "\"205\",\"toyota\",\"toyota tacoma 4wd\",3.4,1999,6,\"auto(l4)\",\"4\",15,19,\"r\",\"pickup\"\r\n",
      "\"206\",\"toyota\",\"toyota tacoma 4wd\",4,2008,6,\"manual(m6)\",\"4\",15,18,\"r\",\"pickup\"\r\n",
      "\"207\",\"toyota\",\"toyota tacoma 4wd\",4,2008,6,\"auto(l5)\",\"4\",16,20,\"r\",\"pickup\"\r\n",
      "\"208\",\"volkswagen\",\"gti\",2,1999,4,\"manual(m5)\",\"f\",21,29,\"r\",\"compact\"\r\n",
      "\"209\",\"volkswagen\",\"gti\",2,1999,4,\"auto(l4)\",\"f\",19,26,\"r\",\"compact\"\r\n",
      "\"210\",\"volkswagen\",\"gti\",2,2008,4,\"manual(m6)\",\"f\",21,29,\"p\",\"compact\"\r\n",
      "\"211\",\"volkswagen\",\"gti\",2,2008,4,\"auto(s6)\",\"f\",22,29,\"p\",\"compact\"\r\n",
      "\"212\",\"volkswagen\",\"gti\",2.8,1999,6,\"manual(m5)\",\"f\",17,24,\"r\",\"compact\"\r\n",
      "\"213\",\"volkswagen\",\"jetta\",1.9,1999,4,\"manual(m5)\",\"f\",33,44,\"d\",\"compact\"\r\n",
      "\"214\",\"volkswagen\",\"jetta\",2,1999,4,\"manual(m5)\",\"f\",21,29,\"r\",\"compact\"\r\n",
      "\"215\",\"volkswagen\",\"jetta\",2,1999,4,\"auto(l4)\",\"f\",19,26,\"r\",\"compact\"\r\n",
      "\"216\",\"volkswagen\",\"jetta\",2,2008,4,\"auto(s6)\",\"f\",22,29,\"p\",\"compact\"\r\n",
      "\"217\",\"volkswagen\",\"jetta\",2,2008,4,\"manual(m6)\",\"f\",21,29,\"p\",\"compact\"\r\n",
      "\"218\",\"volkswagen\",\"jetta\",2.5,2008,5,\"auto(s6)\",\"f\",21,29,\"r\",\"compact\"\r\n",
      "\"219\",\"volkswagen\",\"jetta\",2.5,2008,5,\"manual(m5)\",\"f\",21,29,\"r\",\"compact\"\r\n",
      "\"220\",\"volkswagen\",\"jetta\",2.8,1999,6,\"auto(l4)\",\"f\",16,23,\"r\",\"compact\"\r\n",
      "\"221\",\"volkswagen\",\"jetta\",2.8,1999,6,\"manual(m5)\",\"f\",17,24,\"r\",\"compact\"\r\n",
      "\"222\",\"volkswagen\",\"new beetle\",1.9,1999,4,\"manual(m5)\",\"f\",35,44,\"d\",\"subcompact\"\r\n",
      "\"223\",\"volkswagen\",\"new beetle\",1.9,1999,4,\"auto(l4)\",\"f\",29,41,\"d\",\"subcompact\"\r\n",
      "\"224\",\"volkswagen\",\"new beetle\",2,1999,4,\"manual(m5)\",\"f\",21,29,\"r\",\"subcompact\"\r\n",
      "\"225\",\"volkswagen\",\"new beetle\",2,1999,4,\"auto(l4)\",\"f\",19,26,\"r\",\"subcompact\"\r\n",
      "\"226\",\"volkswagen\",\"new beetle\",2.5,2008,5,\"manual(m5)\",\"f\",20,28,\"r\",\"subcompact\"\r\n",
      "\"227\",\"volkswagen\",\"new beetle\",2.5,2008,5,\"auto(s6)\",\"f\",20,29,\"r\",\"subcompact\"\r\n",
      "\"228\",\"volkswagen\",\"passat\",1.8,1999,4,\"manual(m5)\",\"f\",21,29,\"p\",\"midsize\"\r\n",
      "\"229\",\"volkswagen\",\"passat\",1.8,1999,4,\"auto(l5)\",\"f\",18,29,\"p\",\"midsize\"\r\n",
      "\"230\",\"volkswagen\",\"passat\",2,2008,4,\"auto(s6)\",\"f\",19,28,\"p\",\"midsize\"\r\n",
      "\"231\",\"volkswagen\",\"passat\",2,2008,4,\"manual(m6)\",\"f\",21,29,\"p\",\"midsize\"\r\n",
      "\"232\",\"volkswagen\",\"passat\",2.8,1999,6,\"auto(l5)\",\"f\",16,26,\"p\",\"midsize\"\r\n",
      "\"233\",\"volkswagen\",\"passat\",2.8,1999,6,\"manual(m5)\",\"f\",18,26,\"p\",\"midsize\"\r\n",
      "\"234\",\"volkswagen\",\"passat\",3.6,2008,6,\"auto(s6)\",\"f\",17,26,\"p\",\"midsize\"\r\n"
     ]
    }
   ],
   "source": [
    "!cat mpg.csv "
   ]
  },
  {
   "cell_type": "code",
   "execution_count": 29,
   "metadata": {},
   "outputs": [
    {
     "data": {
      "text/plain": [
       "[{'': '1',\n",
       "  'class': 'compact',\n",
       "  'cty': '18',\n",
       "  'cyl': '4',\n",
       "  'displ': '1.8',\n",
       "  'drv': 'f',\n",
       "  'fl': 'p',\n",
       "  'hwy': '29',\n",
       "  'manufacturer': 'audi',\n",
       "  'model': 'a4',\n",
       "  'trans': 'auto(l5)',\n",
       "  'year': '1999'},\n",
       " {'': '2',\n",
       "  'class': 'compact',\n",
       "  'cty': '21',\n",
       "  'cyl': '4',\n",
       "  'displ': '1.8',\n",
       "  'drv': 'f',\n",
       "  'fl': 'p',\n",
       "  'hwy': '29',\n",
       "  'manufacturer': 'audi',\n",
       "  'model': 'a4',\n",
       "  'trans': 'manual(m5)',\n",
       "  'year': '1999'},\n",
       " {'': '3',\n",
       "  'class': 'compact',\n",
       "  'cty': '20',\n",
       "  'cyl': '4',\n",
       "  'displ': '2',\n",
       "  'drv': 'f',\n",
       "  'fl': 'p',\n",
       "  'hwy': '31',\n",
       "  'manufacturer': 'audi',\n",
       "  'model': 'a4',\n",
       "  'trans': 'manual(m6)',\n",
       "  'year': '2008'}]"
      ]
     },
     "execution_count": 29,
     "metadata": {},
     "output_type": "execute_result"
    }
   ],
   "source": [
    "import csv\n",
    "\n",
    "%precision 2\n",
    "\n",
    "with open('mpg.csv') as csvfile:\n",
    "    mpg = list(csv.DictReader(csvfile))\n",
    "    \n",
    "mpg[:3] # The first three dictionaries in our list."
   ]
  },
  {
   "cell_type": "code",
   "execution_count": 30,
   "metadata": {},
   "outputs": [
    {
     "data": {
      "text/plain": [
       "['',\n",
       " 'trans',\n",
       " 'displ',\n",
       " 'hwy',\n",
       " 'cty',\n",
       " 'drv',\n",
       " 'year',\n",
       " 'model',\n",
       " 'manufacturer',\n",
       " 'fl',\n",
       " 'class',\n",
       " 'cyl']"
      ]
     },
     "execution_count": 30,
     "metadata": {},
     "output_type": "execute_result"
    }
   ],
   "source": [
    "len(mpg)\n",
    "mpg[0].keys()"
   ]
  },
  {
   "cell_type": "markdown",
   "metadata": {},
   "source": [
    "This is how to find the average cty fuel economy across all cars. All values in the dictionaries are strings, so we need to convert to float."
   ]
  },
  {
   "cell_type": "code",
   "execution_count": 31,
   "metadata": {},
   "outputs": [
    {
     "data": {
      "text/plain": [
       "23.44"
      ]
     },
     "execution_count": 31,
     "metadata": {},
     "output_type": "execute_result"
    }
   ],
   "source": [
    "sum(float(d['cty']) for d in mpg) / len(mpg)   #average cty fuel economy across all cars\n",
    "\n",
    "sum(float(d['hwy']) for d in mpg) / len(mpg)   #aerage highway fuel economy across all cars"
   ]
  },
  {
   "cell_type": "markdown",
   "metadata": {},
   "source": [
    "Here's a more complex example where we are grouping the cars by number of cylinder, and finding the average cty mpg for each group."
   ]
  },
  {
   "cell_type": "code",
   "execution_count": 32,
   "metadata": {},
   "outputs": [
    {
     "data": {
      "text/plain": [
       "[('4', 21.01), ('5', 20.50), ('6', 16.22), ('8', 12.57)]"
      ]
     },
     "execution_count": 32,
     "metadata": {},
     "output_type": "execute_result"
    }
   ],
   "source": [
    "cylinders = set(d['cyl'] for d in mpg)\n",
    "CtyMpgByCyl = []\n",
    "\n",
    "for c in cylinders:                   # iterate over all the cylinder levels\n",
    "    summpg = 0\n",
    "    cyltypecount = 0\n",
    "    for d in mpg:                     # iterate over all dictionaries\n",
    "        if d['cyl'] == c:             # if the cylinder level type matches,\n",
    "            summpg += float(d['cty']) # add the cty mpg\n",
    "            cyltypecount += 1         # increment the count\n",
    "    CtyMpgByCyl.append((c, summpg / cyltypecount)) # append the tuple ('cylinder', 'avg mpg')\n",
    "\n",
    "CtyMpgByCyl.sort(key=lambda x: x[0])\n",
    "CtyMpgByCyl"
   ]
  },
  {
   "cell_type": "markdown",
   "metadata": {},
   "source": [
    "And here's an example of how to find the average hwy mpg for each class of vehicle in our dataset."
   ]
  },
  {
   "cell_type": "code",
   "execution_count": 33,
   "metadata": {},
   "outputs": [
    {
     "data": {
      "text/plain": [
       "[('pickup', 16.88),\n",
       " ('suv', 18.13),\n",
       " ('minivan', 22.36),\n",
       " ('2seater', 24.80),\n",
       " ('midsize', 27.29),\n",
       " ('subcompact', 28.14),\n",
       " ('compact', 28.30)]"
      ]
     },
     "execution_count": 33,
     "metadata": {},
     "output_type": "execute_result"
    }
   ],
   "source": [
    "vehicleclass = set(d['class'] for d in mpg) # what are the class types\n",
    "HwyMpgByClass = []\n",
    "\n",
    "for t in vehicleclass: # iterate over all the vehicle classes\n",
    "    summpg = 0\n",
    "    vclasscount = 0\n",
    "    for d in mpg: # iterate over all dictionaries\n",
    "        if d['class'] == t: # if the cylinder amount type matches,\n",
    "            summpg += float(d['hwy']) # add the hwy mpg\n",
    "            vclasscount += 1 # increment the count\n",
    "    HwyMpgByClass.append((t, summpg / vclasscount)) # append the tuple ('class', 'avg mpg')\n",
    "\n",
    "HwyMpgByClass.sort(key=lambda x: x[1])\n",
    "HwyMpgByClass"
   ]
  },
  {
   "cell_type": "markdown",
   "metadata": {},
   "source": [
    "More examples on Python programming and basic data structures can be find [here](https://www.tutorialspoint.com/python/)"
   ]
  },
  {
   "cell_type": "markdown",
   "metadata": {},
   "source": [
    "## Bigdata Analytics with Python\n",
    "Data science is a large field covering everything from data collection, cleaning, standardization, analysis, visualization and reporting. Depending on your interests there are many different positions, companies and fields which touch data science. You can use data science to analyze language, recommend videos, or to determine new products from customer or marketing data. Whether it’s for a research field, your business or the company you work for, there’s many opportunities to use data science and analysis to solve your problems.\n",
    "\n",
    "When we talk about using big data in data science, we are talking about large scale data science. What “big” is depends a bit on who you ask. Most projects or questions you’d like to answer don’t require big data, since the dataset is small enough to be downloaded and parsed on your computer. Most big data problems arise out of data that can’t be held on one computer. If you have large data requiring several (or more) computers to store, you can benefit from big data parsing libraries and analytics.\n",
    "<img src=\"index1.png\">\n",
    " \n",
    "* **NumPy** stands for Numerical Python. NumPy library forms the basis of the SciPy ecosystem for data analytics. The most powerful feature of NumPy is n-dimensional array. This library also contains basic linear algebra functions, Fourier transforms,  advanced random number capabilities and tools for integration with other low level languages like Fortran, C and C++\n",
    "* **SciPy** stands for Scientific Python. SciPy is built on NumPy. It is one of the most useful library for variety of high level science and engineering modules like discrete Fourier transform, Linear Algebra, Optimization and Sparse matrices.\n",
    "* **Matplotlib** for plotting vast variety of graphs, starting from histograms to line plots to heat plots.. You can use Pylab feature in ipython notebook (ipython notebook –pylab = inline) to use these plotting features inline. If you ignore the inline option, then pylab converts ipython environment to an environment, very similar to Matlab. You can also use Latex commands to add math to your plot.\n",
    "* **Pandas** for structured data operations and manipulations. It is extensively used for data munging and preparation. Pandas were added relatively recently to Python and have been instrumental in boosting Python’s usage in data scientist community.\n",
    "* **Scikit Learn** for machine learning. Built on NumPy, SciPy and matplotlib, this library contains a lot of effiecient tools for machine learning and statistical modeling including classification, regression, clustering and dimensionality reduction."
   ]
  },
  {
   "cell_type": "markdown",
   "metadata": {},
   "source": [
    "## Numpy- Numerical Python\n",
    "\n",
    "Numpy is the core library for scientific computing in Python. It provides a high-performance multidimensional array object, and tools for working with these arrays. If you are already familiar with MATLAB, you might find this tutorial useful to get started with Numpy.\n",
    "\n",
    "### Arrays\n",
    "\n",
    "A numpy array is a grid of values, all of the same type, and is indexed by a tuple of nonnegative integers. The number of dimensions is the rank of the array; the shape of an array is a tuple of integers giving the size of the array along each dimension.\n",
    "\n",
    "We can initialize numpy arrays from nested Python lists, and access elements using square brackets:"
   ]
  },
  {
   "cell_type": "code",
   "execution_count": 34,
   "metadata": {},
   "outputs": [
    {
     "name": "stdout",
     "output_type": "stream",
     "text": [
      "<type 'numpy.ndarray'>\n",
      "(3,)\n",
      "1 2 3\n",
      "[5 2 3]\n",
      "(2, 3)\n",
      "1 2 4\n"
     ]
    }
   ],
   "source": [
    "import numpy as np\n",
    "\n",
    "my_list = [1,2,3]\n",
    "m = np.array(my_list)    # Create a rank 1 array\n",
    "print type(m)            # Prints \"<type 'numpy.ndarray'>\"\n",
    "print m.shape            # Prints \"(3,)\"\n",
    "print m[0], m[1], m[2]   # Prints \"1 2 3\"\n",
    "m[0] = 5                 # Change an element of the array\n",
    "print m                  # Prints \"[5, 2, 3]\"\n",
    "\n",
    "b = np.array([[1,2,3],[4,5,6]])   # Create a rank 2 array\n",
    "print b.shape                     # Prints \"(2, 3)\"\n",
    "print b[0, 0], b[0, 1], b[1, 0]   # Prints \"1 2 4\""
   ]
  },
  {
   "cell_type": "code",
   "execution_count": 35,
   "metadata": {},
   "outputs": [
    {
     "name": "stdout",
     "output_type": "stream",
     "text": [
      "[ 0  2  4  6  8 10 12 14 16 18 20 22 24 26 28]\n",
      "[[ 0  2  4  6  8]\n",
      " [10 12 14 16 18]\n",
      " [20 22 24 26 28]]\n"
     ]
    }
   ],
   "source": [
    "n = np.arange(0, 30, 2) # start at 0 count up by 2, stop before 30\n",
    "print n\n",
    "n = n.reshape(3, 5) # reshape array to be 3x5\n",
    "print n"
   ]
  },
  {
   "cell_type": "code",
   "execution_count": 36,
   "metadata": {},
   "outputs": [
    {
     "name": "stdout",
     "output_type": "stream",
     "text": [
      "[ 0.   0.5  1.   1.5  2.   2.5  3.   3.5  4. ]\n",
      "[[ 0.   0.5  1. ]\n",
      " [ 1.5  2.   2.5]\n",
      " [ 3.   3.5  4. ]]\n"
     ]
    }
   ],
   "source": [
    "o = np.linspace(0, 4, 9) # return 9 evenly spaced values from 0 to 4\n",
    "print o\n",
    "o.resize(3, 3)\n",
    "print o"
   ]
  },
  {
   "cell_type": "code",
   "execution_count": 37,
   "metadata": {},
   "outputs": [
    {
     "name": "stdout",
     "output_type": "stream",
     "text": [
      "[[ 0.  0.]\n",
      " [ 0.  0.]]\n",
      "[[ 1.  1.]]\n",
      "[[ 7.  7.]\n",
      " [ 7.  7.]]\n",
      "[[ 1.  0.]\n",
      " [ 0.  1.]]\n",
      "[[ 0.5575075   0.07022908]\n",
      " [ 0.66794804  0.26586952]]\n",
      "[[4 0 0]\n",
      " [0 5 0]\n",
      " [0 0 6]]\n"
     ]
    },
    {
     "name": "stderr",
     "output_type": "stream",
     "text": [
      "/usr/lib/python2.7/dist-packages/numpy/core/numeric.py:301: FutureWarning: in the future, full((2, 2), 7) will return an array of dtype('int64')\n",
      "  format(shape, fill_value, array(fill_value).dtype), FutureWarning)\n"
     ]
    }
   ],
   "source": [
    "a = np.zeros((2,2))  # Create an array of all zeros\n",
    "print a              # Prints \"[[ 0.  0.]\n",
    "                     #          [ 0.  0.]]\"\n",
    "    \n",
    "b = np.ones((1,2))   # Create an array of all ones\n",
    "print b              # Prints \"[[ 1.  1.]]\"\n",
    "\n",
    "c = np.full((2,2), 7) # Create a constant array\n",
    "print c               # Prints \"[[ 7.  7.]\n",
    "                      #          [ 7.  7.]]\"\n",
    "\n",
    "d = np.eye(2)        # Create a 2x2 identity matrix\n",
    "print d              # Prints \"[[ 1.  0.]\n",
    "                     #          [ 0.  1.]]\" \n",
    "\n",
    "e = np.random.random((2,2)) # Create an array filled with random values\n",
    "print e \n",
    "\n",
    "y = np.array([4,5,6]) \n",
    "f = np.diag(y)\n",
    "print f"
   ]
  },
  {
   "cell_type": "markdown",
   "metadata": {},
   "source": [
    "**Array Slicing** Similar to Python lists, numpy arrays can be sliced. Since arrays may be multidimensional, you must specify a slice for each dimension of the array:"
   ]
  },
  {
   "cell_type": "code",
   "execution_count": 38,
   "metadata": {},
   "outputs": [
    {
     "name": "stdout",
     "output_type": "stream",
     "text": [
      "[[2 3]\n",
      " [6 7]]\n",
      "2\n",
      "77\n"
     ]
    }
   ],
   "source": [
    "# Create the following rank 2 array with shape (3, 4)\n",
    "# [[ 1  2  3  4]\n",
    "#  [ 5  6  7  8]\n",
    "#  [ 9 10 11 12]]\n",
    "a = np.array([[1,2,3,4], [5,6,7,8], [9,10,11,12]])\n",
    "\n",
    "# Use slicing to pull out the subarray consisting of the first 2 rows\n",
    "# and columns 1 and 2; b is the following array of shape (2, 2):\n",
    "# [[2 3]\n",
    "#  [6 7]]\n",
    "b = a[:2, 1:3]\n",
    "print b\n",
    "# A slice of an array is a view into the same data, so modifying it\n",
    "# will modify the original array.\n",
    "print a[0, 1]   # Prints \"2\"\n",
    "b[0, 0] = 77    # b[0, 0] is the same piece of data as a[0, 1]\n",
    "print a[0, 1]   # Prints \"77\""
   ]
  },
  {
   "cell_type": "markdown",
   "metadata": {},
   "source": [
    "**Using copy() create a copy of the array (or slice) **"
   ]
  },
  {
   "cell_type": "code",
   "execution_count": 39,
   "metadata": {},
   "outputs": [
    {
     "name": "stdout",
     "output_type": "stream",
     "text": [
      "2\n",
      "2\n"
     ]
    }
   ],
   "source": [
    "a = np.array([[1,2,3,4], [5,6,7,8], [9,10,11,12]])\n",
    "b = a[:2, 1:3].copy()   # creates a new copy of the slice\n",
    "print a[0, 1]   # Prints \"2\"\n",
    "b[0, 0] = 77    # b[0, 0] is the same piece of data as a[0, 1]\n",
    "print a[0, 1]   # Prints \"2\""
   ]
  },
  {
   "cell_type": "markdown",
   "metadata": {},
   "source": [
    "** Operations **\n",
    "\n",
    "Basic mathematical functions operate elementwise on arrays, and are available both as operator overloads and as functions in the numpy module:"
   ]
  },
  {
   "cell_type": "code",
   "execution_count": 40,
   "metadata": {},
   "outputs": [
    {
     "name": "stdout",
     "output_type": "stream",
     "text": [
      "[[  6.   8.]\n",
      " [ 10.  12.]]\n",
      "[[  6.   8.]\n",
      " [ 10.  12.]]\n",
      "[[-4. -4.]\n",
      " [-4. -4.]]\n",
      "[[-4. -4.]\n",
      " [-4. -4.]]\n",
      "[[  5.  12.]\n",
      " [ 21.  32.]]\n",
      "[[  5.  12.]\n",
      " [ 21.  32.]]\n",
      "[[ 0.2         0.33333333]\n",
      " [ 0.42857143  0.5       ]]\n",
      "[[ 0.2         0.33333333]\n",
      " [ 0.42857143  0.5       ]]\n",
      "[[ 1.          1.41421356]\n",
      " [ 1.73205081  2.        ]]\n",
      "[[ 1.  3.]\n",
      " [ 2.  4.]]\n"
     ]
    }
   ],
   "source": [
    "x = np.array([[1,2],[3,4]], dtype=np.float64)\n",
    "y = np.array([[5,6],[7,8]], dtype=np.float64)\n",
    "\n",
    "# Elementwise sum; both produce the array\n",
    "# [[ 6.0  8.0]\n",
    "#  [10.0 12.0]]\n",
    "print x + y\n",
    "print np.add(x, y)\n",
    "\n",
    "# Elementwise difference; both produce the array\n",
    "# [[-4.0 -4.0]\n",
    "#  [-4.0 -4.0]]\n",
    "print x - y\n",
    "print np.subtract(x, y)\n",
    "\n",
    "# Elementwise product; both produce the array\n",
    "# [[ 5.0 12.0]\n",
    "#  [21.0 32.0]]\n",
    "print x * y\n",
    "print np.multiply(x, y)\n",
    "\n",
    "# Elementwise division; both produce the array\n",
    "# [[ 0.2         0.33333333]\n",
    "#  [ 0.42857143  0.5       ]]\n",
    "print x / y\n",
    "print np.divide(x, y)\n",
    "\n",
    "# Elementwise square root; produces the array\n",
    "# [[ 1.          1.41421356]\n",
    "#  [ 1.73205081  2.        ]]\n",
    "print np.sqrt(x)\n",
    "\n",
    "# Transpose of the array\n",
    "# [ [1, 3]\n",
    "#   [2, 4]]\n",
    "print x.T"
   ]
  },
  {
   "cell_type": "markdown",
   "metadata": {},
   "source": [
    "Misc math operations"
   ]
  },
  {
   "cell_type": "code",
   "execution_count": 41,
   "metadata": {},
   "outputs": [
    {
     "name": "stdout",
     "output_type": "stream",
     "text": [
      "32\n",
      "6\n",
      "6\n",
      "4\n",
      "2.0\n",
      "0.816496580928\n",
      "2\n",
      "0\n"
     ]
    }
   ],
   "source": [
    "d1 = np.array([1,2,3])\n",
    "d2 = np.array([4,5,6])\n",
    "\n",
    "print d1.dot(d2)             #dot product of d1 and d2\n",
    "\n",
    "print d1.sum()               #sum of all numbers \n",
    "\n",
    "print d2.max()               #maximum  \n",
    "\n",
    "print d2.min()               #minimum\n",
    "\n",
    "print d1.mean()              #mean of te array  \n",
    "\n",
    "print d2.std()               #standard deviation\n",
    "\n",
    "print d1.argmax()            #index of the max value\n",
    "\n",
    "print d2.argmin()            #index of the min value"
   ]
  },
  {
   "cell_type": "markdown",
   "metadata": {},
   "source": [
    "## Matplotlib\n",
    "\n",
    "** Plotting functions **"
   ]
  },
  {
   "cell_type": "code",
   "execution_count": 5,
   "metadata": {},
   "outputs": [
    {
     "data": {
      "image/png": "[encoded data removed]",
      "text/plain": [
       "<matplotlib.figure.Figure at 0x7f2c27160890>"
      ]
     },
     "metadata": {},
     "output_type": "display_data"
    }
   ],
   "source": [
    "%matplotlib inline\n",
    "import numpy as np\n",
    "import matplotlib.pyplot as plt\n",
    "\n",
    "# Compute the x and y coordinates for points on a sine curve\n",
    "x = np.arange(0, 4*np.pi, 0.1)\n",
    "y = np.sin(x)\n",
    "\n",
    "# Plot the points using matplotlib\n",
    "plt.plot(x, y)\n",
    "plt.show() "
   ]
  },
  {
   "cell_type": "code",
   "execution_count": null,
   "metadata": {
    "collapsed": true
   },
   "outputs": [],
   "source": []
  },
  {
   "cell_type": "code",
   "execution_count": null,
   "metadata": {
    "collapsed": true
   },
   "outputs": [],
   "source": []
  },
  {
   "cell_type": "markdown",
   "metadata": {},
   "source": [
    "Multiple functions in same plot"
   ]
  },
  {
   "cell_type": "code",
   "execution_count": 43,
   "metadata": {},
   "outputs": [
    {
     "data": {
      "image/png": "[encoded data removed]",
      "text/plain": [
       "<matplotlib.figure.Figure at 0x7f5838bb1c10>"
      ]
     },
     "metadata": {},
     "output_type": "display_data"
    }
   ],
   "source": [
    "import numpy as np\n",
    "import matplotlib.pyplot as plt\n",
    "\n",
    "# Compute the x and y coordinates for points on sine and cosine curves\n",
    "x = np.arange(0, 3 * np.pi, 0.1)\n",
    "y_sin = np.sin(x)\n",
    "y_cos = np.cos(x)\n",
    "\n",
    "# Plot the points using matplotlib\n",
    "plt.plot(x, y_sin)\n",
    "plt.plot(x, y_cos)\n",
    "plt.xlabel('x axis label')\n",
    "plt.ylabel('y axis label')\n",
    "plt.title('Sine and Cosine')\n",
    "plt.legend(['Sine', 'Cosine'])\n",
    "plt.show()"
   ]
  },
  {
   "cell_type": "markdown",
   "metadata": {},
   "source": [
    "**Subplots** - Multiple subplots in a single plot"
   ]
  },
  {
   "cell_type": "code",
   "execution_count": 44,
   "metadata": {},
   "outputs": [
    {
     "data": {
      "image/png": "[encoded data removed]",
      "text/plain": [
       "<matplotlib.figure.Figure at 0x7f5838ad6b10>"
      ]
     },
     "metadata": {},
     "output_type": "display_data"
    }
   ],
   "source": [
    "# Compute the x and y coordinates for points on sine and cosine curves\n",
    "x = np.arange(0, 3 * np.pi, 0.1)\n",
    "y_sin = np.sin(x)\n",
    "y_cos = np.cos(x)\n",
    "\n",
    "# Set up a subplot grid that has height 2 and width 1,\n",
    "# and set the first such subplot as active.\n",
    "plt.subplot(2, 1, 1)\n",
    "\n",
    "# Make the first plot\n",
    "plt.plot(x, y_sin)\n",
    "plt.title('Sine')\n",
    "\n",
    "\n",
    "# Set the second subplot as active, and make the second plot.\n",
    "plt.subplot(2, 1, 2)\n",
    "plt.plot(x, y_cos)\n",
    "plt.title('Cosine')\n",
    "\n",
    "# Show the figure.\n",
    "plt.show()"
   ]
  },
  {
   "cell_type": "markdown",
   "metadata": {},
   "source": [
    "Plot images"
   ]
  },
  {
   "cell_type": "code",
   "execution_count": 45,
   "metadata": {},
   "outputs": [
    {
     "data": {
      "image/png": "[encoded data removed]",
      "text/plain": [
       "<matplotlib.figure.Figure at 0x7f5838abb050>"
      ]
     },
     "metadata": {},
     "output_type": "display_data"
    }
   ],
   "source": [
    "import numpy as np\n",
    "from scipy.misc import imread, imresize\n",
    "import matplotlib.pyplot as plt\n",
    "\n",
    "img = imread('img1.jpg')\n",
    "img_tinted = img * [1, 0.95, 0.9]\n",
    "img2 = imread('img2.jpg')\n",
    "img_tinted2 = img2 * [1, 0.95, 0.9]\n",
    "\n",
    "# Show the original image\n",
    "plt.subplot(1, 2, 1)\n",
    "plt.imshow(np.uint8(img_tinted))\n",
    "# Show the tinted image\n",
    "plt.subplot(1, 2, 2)\n",
    "\n",
    "# A slight gotcha with imshow is that it might give strange results\n",
    "# if presented with data that is not uint8. To work around this, we\n",
    "# explicitly cast the image to uint8 before displaying it.\n",
    "plt.imshow(np.uint8(img_tinted2))\n",
    "plt.show()"
   ]
  },
  {
   "cell_type": "markdown",
   "metadata": {},
   "source": [
    "### NetworkX"
   ]
  },
  {
   "cell_type": "code",
   "execution_count": 46,
   "metadata": {},
   "outputs": [
    {
     "name": "stdout",
     "output_type": "stream",
     "text": [
      "[0, 1, 2, 3, 4]\n",
      "[(0, 1, {}), (0, 2, {}), (0, 3, {}), (0, 4, {}), (1, 2, {}), (1, 3, {}), (1, 4, {}), (2, 3, {}), (2, 4, {}), (3, 4, {})]\n"
     ]
    }
   ],
   "source": [
    "%matplotlib inline\n",
    "import networkx as nx\n",
    "import matplotlib.pyplot as plt\n",
    "\n",
    "g = nx.complete_graph(5)\n",
    "#nx.draw(g)\n",
    "#plt.show()\n",
    "print g.nodes()\n",
    "print g.edges(data=True)"
   ]
  },
  {
   "cell_type": "markdown",
   "metadata": {},
   "source": [
    "## Pandas\n",
    "One of the most popular data science libraries is [Pandas](http://pandas.pydata.org/) introduced by [Wes McKinney](http://wesmckinney.com/). Developed by data scientists familiar with R and Python, it has grown to support a large community of scientists and analysts. It has many built-in features, such as the ability to read data from many sources, create large dataframes (or matrixes / tables) from these sources and compute aggregate analytics based on what questions you’d like to answer. It has some built-in visualizations which can be used to chart and graph your results as well as several export functions to turn your completed analysis into an Excel Spreadsheet.\n"
   ]
  },
  {
   "cell_type": "markdown",
   "metadata": {},
   "source": [
    "### The Series Data Structure\n",
    "It is a core data structure of Pandas. Series is a one-dimensional labeled array capable of holding any data type. It can be viewed as corss between a list and a dictionary. "
   ]
  },
  {
   "cell_type": "code",
   "execution_count": 47,
   "metadata": {
    "collapsed": true
   },
   "outputs": [],
   "source": [
    "import pandas as pd\n",
    "# Get help on Series\n",
    "pd.Series?"
   ]
  },
  {
   "cell_type": "markdown",
   "metadata": {},
   "source": [
    "Create as series with default integer index 0,1,2 ...."
   ]
  },
  {
   "cell_type": "code",
   "execution_count": 48,
   "metadata": {},
   "outputs": [
    {
     "data": {
      "text/plain": [
       "0    Tiger\n",
       "1     Bear\n",
       "2    Moose\n",
       "dtype: object"
      ]
     },
     "execution_count": 48,
     "metadata": {},
     "output_type": "execute_result"
    }
   ],
   "source": [
    "animals = ['Tiger', 'Bear', 'Moose']\n",
    "pd.Series(animals)"
   ]
  },
  {
   "cell_type": "code",
   "execution_count": 49,
   "metadata": {},
   "outputs": [
    {
     "name": "stdout",
     "output_type": "stream",
     "text": [
      "0    Tiger\n",
      "1     Bear\n",
      "2     None\n",
      "dtype: object\n",
      "0     1\n",
      "1     2\n",
      "2   NaN\n",
      "dtype: float64\n"
     ]
    }
   ],
   "source": [
    "animals = ['Tiger', 'Bear', None]\n",
    "print pd.Series(animals)\n",
    "#Notice that the type is object and the value is None\n",
    "numbers = [1, 2, None]\n",
    "print pd.Series(numbers)\n",
    "# Notice that the type is float and the value for last element in NaN. ie. None not equal to NaN."
   ]
  },
  {
   "cell_type": "markdown",
   "metadata": {},
   "source": [
    "Create Series from a dictionary"
   ]
  },
  {
   "cell_type": "code",
   "execution_count": 50,
   "metadata": {},
   "outputs": [
    {
     "data": {
      "text/plain": [
       "Archery           Bhutan\n",
       "Golf            Scotland\n",
       "Sumo               Japan\n",
       "Taekwondo    South Korea\n",
       "dtype: object"
      ]
     },
     "execution_count": 50,
     "metadata": {},
     "output_type": "execute_result"
    }
   ],
   "source": [
    "sports = {'Archery': 'Bhutan',\n",
    "          'Golf': 'Scotland',\n",
    "          'Sumo': 'Japan',\n",
    "          'Taekwondo': 'South Korea'}\n",
    "s = pd.Series(sports)\n",
    "s"
   ]
  },
  {
   "cell_type": "code",
   "execution_count": 51,
   "metadata": {},
   "outputs": [
    {
     "name": "stdout",
     "output_type": "stream",
     "text": [
      "Golf      Scotland\n",
      "Sumo         Japan\n",
      "Hockey         NaN\n",
      "dtype: object\n",
      "Index([u'Golf', u'Sumo', u'Hockey'], dtype='object')\n"
     ]
    }
   ],
   "source": [
    "sports = {'Archery': 'Bhutan',\n",
    "          'Golf': 'Scotland',\n",
    "          'Sumo': 'Japan',\n",
    "          'Taekwondo': 'South Korea'}\n",
    "s = pd.Series(sports, index=['Golf', 'Sumo', 'Hockey'])\n",
    "print s\n",
    "print s.index"
   ]
  },
  {
   "cell_type": "markdown",
   "metadata": {},
   "source": [
    "### Qerying a series"
   ]
  },
  {
   "cell_type": "code",
   "execution_count": 52,
   "metadata": {},
   "outputs": [
    {
     "name": "stdout",
     "output_type": "stream",
     "text": [
      "Scotland\n",
      "Japan\n",
      "Japan\n",
      "nan\n"
     ]
    }
   ],
   "source": [
    "# Print value based on position\n",
    "print s.iloc[0]\n",
    "# Get the value based on the index\n",
    "print s.loc['Sumo']\n",
    "\n",
    "print s[1]\n",
    "print s['Hockey']"
   ]
  },
  {
   "cell_type": "code",
   "execution_count": 53,
   "metadata": {},
   "outputs": [
    {
     "name": "stdout",
     "output_type": "stream",
     "text": [
      "0     24\n",
      "1    693\n",
      "2    251\n",
      "3    421\n",
      "4    249\n",
      "dtype: int64\n",
      "10000\n"
     ]
    }
   ],
   "source": [
    "import numpy as np\n",
    "#this creates a big series of random numbers\n",
    "s = pd.Series(np.random.randint(0,1000,10000))\n",
    "print s.head()\n",
    "print len(s)"
   ]
  },
  {
   "cell_type": "code",
   "execution_count": 54,
   "metadata": {},
   "outputs": [
    {
     "name": "stdout",
     "output_type": "stream",
     "text": [
      "100 loops, best of 3: 949 µs per loop\n"
     ]
    }
   ],
   "source": [
    "%%timeit -n 100  #a magic function\n",
    "summary = 0\n",
    "for item in s:\n",
    "    summary+=item\n",
    "#take a not of the average time for execution"
   ]
  },
  {
   "cell_type": "code",
   "execution_count": 55,
   "metadata": {},
   "outputs": [
    {
     "name": "stdout",
     "output_type": "stream",
     "text": [
      "100 loops, best of 3: 81.7 µs per loop\n"
     ]
    }
   ],
   "source": [
    "%%timeit -n 100\n",
    "summary = np.sum(s)\n",
    "#This much be much faster"
   ]
  },
  {
   "cell_type": "markdown",
   "metadata": {},
   "source": [
    "** Think twice if you are iterating through a series** to make sure that there is no optimal substitute."
   ]
  },
  {
   "cell_type": "markdown",
   "metadata": {},
   "source": [
    "### Data Frames\n",
    "**DataFrame** is a 2-dimensional labeled data structure with columns of potentially different types. You can think of it like a spreadsheet or SQL table, or a dict of Series objects. It is generally the most commonly used pandas object. Like Series, DataFrame accepts many different kinds of input:\n",
    "* Dict of 1D ndarrays, lists, dicts, or Series\n",
    "* 2-D numpy.ndarray\n",
    "* Structured or record ndarray\n",
    "* A Series\n",
    "* Another DataFrame\n",
    "\n",
    "Along with the data, you can optionally pass index (row labels) and columns (column labels) arguments. If you pass an index and / or columns, you are guaranteeing the index and / or columns of the resulting DataFrame. Thus, a dict of Series plus a specific index will discard all data not matching up to the passed index.\n",
    "\n",
    "** Example for creating Dataframes **"
   ]
  },
  {
   "cell_type": "code",
   "execution_count": 56,
   "metadata": {},
   "outputs": [
    {
     "data": {
      "text/html": [
       "<div>\n",
       "<table border=\"1\" class=\"dataframe\">\n",
       "  <thead>\n",
       "    <tr style=\"text-align: right;\">\n",
       "      <th></th>\n",
       "      <th>A</th>\n",
       "      <th>B</th>\n",
       "      <th>C</th>\n",
       "      <th>D</th>\n",
       "      <th>E</th>\n",
       "      <th>F</th>\n",
       "    </tr>\n",
       "  </thead>\n",
       "  <tbody>\n",
       "    <tr>\n",
       "      <th>0</th>\n",
       "      <td>1</td>\n",
       "      <td>2013-01-02</td>\n",
       "      <td>1</td>\n",
       "      <td>3</td>\n",
       "      <td>test</td>\n",
       "      <td>foo</td>\n",
       "    </tr>\n",
       "    <tr>\n",
       "      <th>1</th>\n",
       "      <td>2</td>\n",
       "      <td>2013-01-02</td>\n",
       "      <td>1</td>\n",
       "      <td>3</td>\n",
       "      <td>train</td>\n",
       "      <td>foo</td>\n",
       "    </tr>\n",
       "    <tr>\n",
       "      <th>2</th>\n",
       "      <td>3</td>\n",
       "      <td>2013-01-02</td>\n",
       "      <td>1</td>\n",
       "      <td>3</td>\n",
       "      <td>test</td>\n",
       "      <td>foo</td>\n",
       "    </tr>\n",
       "    <tr>\n",
       "      <th>3</th>\n",
       "      <td>4</td>\n",
       "      <td>2013-01-02</td>\n",
       "      <td>1</td>\n",
       "      <td>3</td>\n",
       "      <td>train</td>\n",
       "      <td>foo</td>\n",
       "    </tr>\n",
       "  </tbody>\n",
       "</table>\n",
       "</div>"
      ],
      "text/plain": [
       "   A          B  C  D      E    F\n",
       "0  1 2013-01-02  1  3   test  foo\n",
       "1  2 2013-01-02  1  3  train  foo\n",
       "2  3 2013-01-02  1  3   test  foo\n",
       "3  4 2013-01-02  1  3  train  foo"
      ]
     },
     "execution_count": 56,
     "metadata": {},
     "output_type": "execute_result"
    }
   ],
   "source": [
    "import pandas as pd\n",
    "import numpy as np\n",
    "\n",
    "df1 = pd.DataFrame({ 'A' : range(1,5),\n",
    "                    'B' : pd.Timestamp('20130102'),\n",
    "                    'C' : pd.Series(1,index=list(range(4)),dtype='float32'),\n",
    "                    'D' : np.array([3] * 4,dtype='int32'),\n",
    "                    'E' : pd.Categorical([\"test\",\"train\",\"test\",\"train\"]),\n",
    "                    'F' : 'foo' })\n",
    "df1"
   ]
  },
  {
   "cell_type": "markdown",
   "metadata": {},
   "source": [
    "** Example 2 **"
   ]
  },
  {
   "cell_type": "code",
   "execution_count": 57,
   "metadata": {},
   "outputs": [
    {
     "data": {
      "text/html": [
       "<div>\n",
       "<table border=\"1\" class=\"dataframe\">\n",
       "  <thead>\n",
       "    <tr style=\"text-align: right;\">\n",
       "      <th></th>\n",
       "      <th>Cost</th>\n",
       "      <th>Item Purchased</th>\n",
       "      <th>Name</th>\n",
       "    </tr>\n",
       "  </thead>\n",
       "  <tbody>\n",
       "    <tr>\n",
       "      <th>Store 1</th>\n",
       "      <td>22.5</td>\n",
       "      <td>Dog Food</td>\n",
       "      <td>Chris</td>\n",
       "    </tr>\n",
       "    <tr>\n",
       "      <th>Store 1</th>\n",
       "      <td>2.5</td>\n",
       "      <td>Kitty Litter</td>\n",
       "      <td>Kevyn</td>\n",
       "    </tr>\n",
       "    <tr>\n",
       "      <th>Store 2</th>\n",
       "      <td>5.0</td>\n",
       "      <td>Bird Seed</td>\n",
       "      <td>Vinod</td>\n",
       "    </tr>\n",
       "  </tbody>\n",
       "</table>\n",
       "</div>"
      ],
      "text/plain": [
       "         Cost Item Purchased   Name\n",
       "Store 1  22.5       Dog Food  Chris\n",
       "Store 1   2.5   Kitty Litter  Kevyn\n",
       "Store 2   5.0      Bird Seed  Vinod"
      ]
     },
     "execution_count": 57,
     "metadata": {},
     "output_type": "execute_result"
    }
   ],
   "source": [
    "purchase_1 = pd.Series({'Name': 'Chris',\n",
    "                        'Item Purchased': 'Dog Food',\n",
    "                        'Cost': 22.50})\n",
    "purchase_2 = pd.Series({'Name': 'Kevyn',\n",
    "                        'Item Purchased': 'Kitty Litter',\n",
    "                        'Cost': 2.50})\n",
    "purchase_3 = pd.Series({'Name': 'Vinod',\n",
    "                        'Item Purchased': 'Bird Seed',\n",
    "                        'Cost': 5.00})\n",
    "df = pd.DataFrame([purchase_1, purchase_2, purchase_3], index=['Store 1', 'Store 1', 'Store 2'])\n",
    "df.head()"
   ]
  },
  {
   "cell_type": "code",
   "execution_count": 58,
   "metadata": {},
   "outputs": [
    {
     "data": {
      "text/plain": [
       "Cost                      5\n",
       "Item Purchased    Bird Seed\n",
       "Name                  Vinod\n",
       "Name: Store 2, dtype: object"
      ]
     },
     "execution_count": 58,
     "metadata": {},
     "output_type": "execute_result"
    }
   ],
   "source": [
    "#| Cost                      5\n",
    "#| Item Purchased    Bird Seed\n",
    "#| Name                  Vinod\n",
    "#| Name: Store 2, dtype: object\n",
    "df.loc['Store 2']"
   ]
  },
  {
   "cell_type": "code",
   "execution_count": 59,
   "metadata": {},
   "outputs": [
    {
     "data": {
      "text/plain": [
       "Store 1    22.5\n",
       "Store 1     2.5\n",
       "Name: Cost, dtype: float64"
      ]
     },
     "execution_count": 59,
     "metadata": {},
     "output_type": "execute_result"
    }
   ],
   "source": [
    "#| Store 1    22.5\n",
    "#| Store 1     2.5\n",
    "#| Name: Cost, dtype: float64\n",
    "df.loc['Store 1', 'Cost']             # Display cost of all rows with index \"Store 1\" , Efficient"
   ]
  },
  {
   "cell_type": "code",
   "execution_count": 60,
   "metadata": {},
   "outputs": [
    {
     "name": "stdout",
     "output_type": "stream",
     "text": [
      "                 Store 1       Store 1    Store 2\n",
      "Cost                22.5           2.5          5\n",
      "Item Purchased  Dog Food  Kitty Litter  Bird Seed\n",
      "Name               Chris         Kevyn      Vinod\n",
      "Store 1    22.5\n",
      "Store 1     2.5\n",
      "Store 2       5\n",
      "Name: Cost, dtype: object\n"
     ]
    }
   ],
   "source": [
    "print df.T                            # Transpose of the data frame.\n",
    "print df.T.loc['Cost']                # Cost for all purchases from stores."
   ]
  },
  {
   "cell_type": "code",
   "execution_count": 61,
   "metadata": {},
   "outputs": [
    {
     "data": {
      "text/plain": [
       "Store 1    22.5\n",
       "Store 1     2.5\n",
       "Name: Cost, dtype: float64"
      ]
     },
     "execution_count": 61,
     "metadata": {},
     "output_type": "execute_result"
    }
   ],
   "source": [
    "df.loc['Store 1']['Cost']             # Display cost of all rows with index \"Store 1\" , inefficient"
   ]
  },
  {
   "cell_type": "code",
   "execution_count": 62,
   "metadata": {},
   "outputs": [
    {
     "data": {
      "text/html": [
       "<div>\n",
       "<table border=\"1\" class=\"dataframe\">\n",
       "  <thead>\n",
       "    <tr style=\"text-align: right;\">\n",
       "      <th></th>\n",
       "      <th>Name</th>\n",
       "      <th>Cost</th>\n",
       "    </tr>\n",
       "  </thead>\n",
       "  <tbody>\n",
       "    <tr>\n",
       "      <th>Store 1</th>\n",
       "      <td>Chris</td>\n",
       "      <td>22.5</td>\n",
       "    </tr>\n",
       "    <tr>\n",
       "      <th>Store 1</th>\n",
       "      <td>Kevyn</td>\n",
       "      <td>2.5</td>\n",
       "    </tr>\n",
       "    <tr>\n",
       "      <th>Store 2</th>\n",
       "      <td>Vinod</td>\n",
       "      <td>5.0</td>\n",
       "    </tr>\n",
       "  </tbody>\n",
       "</table>\n",
       "</div>"
      ],
      "text/plain": [
       "          Name  Cost\n",
       "Store 1  Chris  22.5\n",
       "Store 1  Kevyn   2.5\n",
       "Store 2  Vinod   5.0"
      ]
     },
     "execution_count": 62,
     "metadata": {},
     "output_type": "execute_result"
    }
   ],
   "source": [
    "df.loc[:,['Name', 'Cost']]            # Display all rows with selected series"
   ]
  },
  {
   "cell_type": "code",
   "execution_count": 63,
   "metadata": {},
   "outputs": [
    {
     "data": {
      "text/html": [
       "<div>\n",
       "<table border=\"1\" class=\"dataframe\">\n",
       "  <thead>\n",
       "    <tr style=\"text-align: right;\">\n",
       "      <th></th>\n",
       "      <th>Cost</th>\n",
       "      <th>Item Purchased</th>\n",
       "      <th>Name</th>\n",
       "    </tr>\n",
       "  </thead>\n",
       "  <tbody>\n",
       "    <tr>\n",
       "      <th>Store 1</th>\n",
       "      <td>22.5</td>\n",
       "      <td>Dog Food</td>\n",
       "      <td>Chris</td>\n",
       "    </tr>\n",
       "    <tr>\n",
       "      <th>Store 1</th>\n",
       "      <td>2.5</td>\n",
       "      <td>Kitty Litter</td>\n",
       "      <td>Kevyn</td>\n",
       "    </tr>\n",
       "  </tbody>\n",
       "</table>\n",
       "</div>"
      ],
      "text/plain": [
       "         Cost Item Purchased   Name\n",
       "Store 1  22.5       Dog Food  Chris\n",
       "Store 1   2.5   Kitty Litter  Kevyn"
      ]
     },
     "execution_count": 63,
     "metadata": {},
     "output_type": "execute_result"
    }
   ],
   "source": [
    "df.drop(\"Store 2\")                    # Drop rows corresponding to a key"
   ]
  },
  {
   "cell_type": "code",
   "execution_count": 64,
   "metadata": {},
   "outputs": [
    {
     "name": "stdout",
     "output_type": "stream",
     "text": [
      "         Cost Item Purchased   Name\n",
      "Store 1  22.5       Dog Food  Chris\n",
      "Store 1   2.5   Kitty Litter  Kevyn\n",
      "Store 2   5.0      Bird Seed  Vinod\n",
      "-----------------\n",
      "         Cost Item Purchased\n",
      "Store 1  22.5       Dog Food\n",
      "Store 1   2.5   Kitty Litter\n",
      "Store 2   5.0      Bird Seed\n"
     ]
    }
   ],
   "source": [
    "copy_df = df.copy()\n",
    "print copy_df\n",
    "print \"-----------------\"\n",
    "#|         Cost Item Purchased\n",
    "#| Store 1  22.5       Dog Food\n",
    "#| Store 1   2.5   Kitty Litter\n",
    "#| Store 2   5.0      Bird Seed\n",
    "del copy_df['Name']\n",
    "print copy_df"
   ]
  },
  {
   "cell_type": "markdown",
   "metadata": {},
   "source": [
    "## Exploring Data with Python\n",
    "### Importing Data to Pandas dataframe\n",
    "The data may stored in sqllite database or csv/tsv format. Here, we will explore a csv file using Pandas dataframe. <br><br>\n",
    "** Read data from csv file **\n",
    "<br>\n",
    "* Note: data is stored in ./salaries/Salaries.csv\n",
    "* This is salary details of employess of different organization of four years"
   ]
  },
  {
   "cell_type": "code",
   "execution_count": 65,
   "metadata": {
    "collapsed": true
   },
   "outputs": [],
   "source": [
    "%matplotlib inline\n",
    "import numpy as np\n",
    "import pandas as pd\n",
    "import matplotlib.pyplot as plt\n",
    "from pandas import DataFrame\n",
    "from pandas import Series"
   ]
  },
  {
   "cell_type": "markdown",
   "metadata": {},
   "source": [
    "Read data from a CSV file"
   ]
  },
  {
   "cell_type": "code",
   "execution_count": 66,
   "metadata": {},
   "outputs": [
    {
     "name": "stderr",
     "output_type": "stream",
     "text": [
      "/usr/local/lib/python2.7/dist-packages/IPython/core/interactiveshell.py:2718: DtypeWarning: Columns (3,4,5,6,12) have mixed types. Specify dtype option on import or set low_memory=False.\n",
      "  interactivity=interactivity, compiler=compiler, result=result)\n"
     ]
    }
   ],
   "source": [
    "#pd.set_option('display.max_columns', None)\n",
    "#pd.set_option('display.max_rows',None)\n",
    "df=pd.read_csv('Salaries.csv',index_col= 0, error_bad_lines=False)"
   ]
  },
  {
   "cell_type": "code",
   "execution_count": 67,
   "metadata": {},
   "outputs": [
    {
     "name": "stdout",
     "output_type": "stream",
     "text": [
      "\n",
      "Toral Rows= 148654 \n",
      "\n",
      "\n",
      "         EmployeeName                                        JobTitle BasePay  \\\n",
      "Id                                                                              \n",
      "1      NATHANIEL FORD  GENERAL MANAGER-METROPOLITAN TRANSIT AUTHORITY  167411   \n",
      "2        GARY JIMENEZ                 CAPTAIN III (POLICE DEPARTMENT)  155966   \n",
      "3      ALBERT PARDINI                 CAPTAIN III (POLICE DEPARTMENT)  212739   \n",
      "4   CHRISTOPHER CHONG            WIRE ROPE CABLE MAINTENANCE MECHANIC   77916   \n",
      "5     PATRICK GARDNER    DEPUTY CHIEF OF DEPARTMENT,(FIRE DEPARTMENT)  134402   \n",
      "\n",
      "   OvertimePay OtherPay Benefits   TotalPay  TotalPayBenefits  Year  Notes  \\\n",
      "Id                                                                           \n",
      "1            0   400184      NaN  567595.43         567595.43  2011    NaN   \n",
      "2       245132   137811      NaN  538909.28         538909.28  2011    NaN   \n",
      "3       106088  16452.6      NaN  335279.91         335279.91  2011    NaN   \n",
      "4      56120.7   198307      NaN  332343.61         332343.61  2011    NaN   \n",
      "5         9737   182235      NaN  326373.19         326373.19  2011    NaN   \n",
      "\n",
      "           Agency Status  \n",
      "Id                        \n",
      "1   San Francisco    NaN  \n",
      "2   San Francisco    NaN  \n",
      "3   San Francisco    NaN  \n",
      "4   San Francisco    NaN  \n",
      "5   San Francisco    NaN  \n",
      "        EmployeeName                    JobTitle       BasePay   OvertimePay  \\\n",
      "Id                                                                             \n",
      "148652  Not provided                Not provided  Not Provided  Not Provided   \n",
      "148653  Not provided                Not provided  Not Provided  Not Provided   \n",
      "148654     Joe Lopez  Counselor, Log Cabin Ranch          0.00          0.00   \n",
      "\n",
      "            OtherPay      Benefits  TotalPay  TotalPayBenefits  Year  Notes  \\\n",
      "Id                                                                            \n",
      "148652  Not Provided  Not Provided      0.00              0.00  2014    NaN   \n",
      "148653  Not Provided  Not Provided      0.00              0.00  2014    NaN   \n",
      "148654       -618.13          0.00   -618.13           -618.13  2014    NaN   \n",
      "\n",
      "               Agency Status  \n",
      "Id                            \n",
      "148652  San Francisco    NaN  \n",
      "148653  San Francisco    NaN  \n",
      "148654  San Francisco     PT  \n"
     ]
    }
   ],
   "source": [
    "print \"\\nToral Rows=\",len(df),\"\\n\\n\"  # print the total number of entries\n",
    "print df.head()                       # print the first 5 entries\n",
    "print df.tail(3)                      # print the last 3 entries"
   ]
  },
  {
   "cell_type": "markdown",
   "metadata": {},
   "source": [
    "print the details of the data frame"
   ]
  },
  {
   "cell_type": "code",
   "execution_count": 68,
   "metadata": {},
   "outputs": [
    {
     "data": {
      "text/html": [
       "<div>\n",
       "<table border=\"1\" class=\"dataframe\">\n",
       "  <thead>\n",
       "    <tr style=\"text-align: right;\">\n",
       "      <th></th>\n",
       "      <th>TotalPay</th>\n",
       "      <th>TotalPayBenefits</th>\n",
       "      <th>Year</th>\n",
       "      <th>Notes</th>\n",
       "    </tr>\n",
       "  </thead>\n",
       "  <tbody>\n",
       "    <tr>\n",
       "      <th>count</th>\n",
       "      <td>148654.000000</td>\n",
       "      <td>148654.000000</td>\n",
       "      <td>148654.000000</td>\n",
       "      <td>0</td>\n",
       "    </tr>\n",
       "    <tr>\n",
       "      <th>mean</th>\n",
       "      <td>74768.321972</td>\n",
       "      <td>93692.554811</td>\n",
       "      <td>2012.522643</td>\n",
       "      <td>NaN</td>\n",
       "    </tr>\n",
       "    <tr>\n",
       "      <th>std</th>\n",
       "      <td>50517.005274</td>\n",
       "      <td>62793.533483</td>\n",
       "      <td>1.117538</td>\n",
       "      <td>NaN</td>\n",
       "    </tr>\n",
       "    <tr>\n",
       "      <th>min</th>\n",
       "      <td>-618.130000</td>\n",
       "      <td>-618.130000</td>\n",
       "      <td>2011.000000</td>\n",
       "      <td>NaN</td>\n",
       "    </tr>\n",
       "    <tr>\n",
       "      <th>25%</th>\n",
       "      <td>36168.995000</td>\n",
       "      <td>44065.650000</td>\n",
       "      <td>2012.000000</td>\n",
       "      <td>NaN</td>\n",
       "    </tr>\n",
       "    <tr>\n",
       "      <th>50%</th>\n",
       "      <td>71426.610000</td>\n",
       "      <td>92404.090000</td>\n",
       "      <td>2013.000000</td>\n",
       "      <td>NaN</td>\n",
       "    </tr>\n",
       "    <tr>\n",
       "      <th>75%</th>\n",
       "      <td>105839.135000</td>\n",
       "      <td>132876.450000</td>\n",
       "      <td>2014.000000</td>\n",
       "      <td>NaN</td>\n",
       "    </tr>\n",
       "    <tr>\n",
       "      <th>max</th>\n",
       "      <td>567595.430000</td>\n",
       "      <td>567595.430000</td>\n",
       "      <td>2014.000000</td>\n",
       "      <td>NaN</td>\n",
       "    </tr>\n",
       "  </tbody>\n",
       "</table>\n",
       "</div>"
      ],
      "text/plain": [
       "            TotalPay  TotalPayBenefits           Year  Notes\n",
       "count  148654.000000     148654.000000  148654.000000      0\n",
       "mean    74768.321972      93692.554811    2012.522643    NaN\n",
       "std     50517.005274      62793.533483       1.117538    NaN\n",
       "min      -618.130000       -618.130000    2011.000000    NaN\n",
       "25%     36168.995000      44065.650000    2012.000000    NaN\n",
       "50%     71426.610000      92404.090000    2013.000000    NaN\n",
       "75%    105839.135000     132876.450000    2014.000000    NaN\n",
       "max    567595.430000     567595.430000    2014.000000    NaN"
      ]
     },
     "execution_count": 68,
     "metadata": {},
     "output_type": "execute_result"
    }
   ],
   "source": [
    "df.describe()   "
   ]
  },
  {
   "cell_type": "code",
   "execution_count": 69,
   "metadata": {},
   "outputs": [
    {
     "data": {
      "text/plain": [
       "EmployeeName         object\n",
       "JobTitle             object\n",
       "BasePay              object\n",
       "OvertimePay          object\n",
       "OtherPay             object\n",
       "Benefits             object\n",
       "TotalPay            float64\n",
       "TotalPayBenefits    float64\n",
       "Year                  int64\n",
       "Notes               float64\n",
       "Agency               object\n",
       "Status               object\n",
       "dtype: object"
      ]
     },
     "execution_count": 69,
     "metadata": {},
     "output_type": "execute_result"
    }
   ],
   "source": [
    "df.dtypes"
   ]
  },
  {
   "cell_type": "code",
   "execution_count": 70,
   "metadata": {},
   "outputs": [
    {
     "data": {
      "text/plain": [
       "Index([u'EmployeeName', u'JobTitle', u'BasePay', u'OvertimePay', u'OtherPay',\n",
       "       u'Benefits', u'TotalPay', u'TotalPayBenefits', u'Year', u'Notes',\n",
       "       u'Agency', u'Status'],\n",
       "      dtype='object')"
      ]
     },
     "execution_count": 70,
     "metadata": {},
     "output_type": "execute_result"
    }
   ],
   "source": [
    "df.columns       # display the column names"
   ]
  },
  {
   "cell_type": "markdown",
   "metadata": {},
   "source": [
    "Querying Data"
   ]
  },
  {
   "cell_type": "code",
   "execution_count": 71,
   "metadata": {},
   "outputs": [
    {
     "data": {
      "text/plain": [
       "Id\n",
       "1         False\n",
       "2         False\n",
       "3         False\n",
       "4         False\n",
       "5         False\n",
       "6         False\n",
       "7         False\n",
       "8         False\n",
       "9         False\n",
       "10        False\n",
       "11        False\n",
       "12        False\n",
       "13        False\n",
       "14        False\n",
       "15        False\n",
       "16        False\n",
       "17        False\n",
       "18        False\n",
       "19        False\n",
       "20        False\n",
       "21        False\n",
       "22        False\n",
       "23        False\n",
       "24        False\n",
       "25        False\n",
       "26        False\n",
       "27        False\n",
       "28        False\n",
       "29        False\n",
       "30        False\n",
       "          ...  \n",
       "148625     True\n",
       "148626     True\n",
       "148627     True\n",
       "148628     True\n",
       "148629     True\n",
       "148630     True\n",
       "148631     True\n",
       "148632     True\n",
       "148633     True\n",
       "148634     True\n",
       "148635     True\n",
       "148636     True\n",
       "148637     True\n",
       "148638     True\n",
       "148639     True\n",
       "148640     True\n",
       "148641     True\n",
       "148642     True\n",
       "148643     True\n",
       "148644     True\n",
       "148645     True\n",
       "148646     True\n",
       "148647     True\n",
       "148648     True\n",
       "148649     True\n",
       "148650     True\n",
       "148651     True\n",
       "148652     True\n",
       "148653     True\n",
       "148654     True\n",
       "Name: Year, dtype: bool"
      ]
     },
     "execution_count": 71,
     "metadata": {},
     "output_type": "execute_result"
    }
   ],
   "source": [
    "df['Year']                           #print the attribute Year\n",
    "set(df['Year'])                      # Print set of distinct values of Year\n",
    "df['Year'] > 2013                    # Uses a boolean mask"
   ]
  },
  {
   "cell_type": "markdown",
   "metadata": {},
   "source": [
    "** Project the data with some conditions** <br>\n",
    "Eg: Show the details of employees with Total pay above 500000."
   ]
  },
  {
   "cell_type": "code",
   "execution_count": 72,
   "metadata": {},
   "outputs": [
    {
     "data": {
      "text/html": [
       "<div>\n",
       "<table border=\"1\" class=\"dataframe\">\n",
       "  <thead>\n",
       "    <tr style=\"text-align: right;\">\n",
       "      <th></th>\n",
       "      <th>EmployeeName</th>\n",
       "      <th>JobTitle</th>\n",
       "      <th>BasePay</th>\n",
       "      <th>OvertimePay</th>\n",
       "      <th>OtherPay</th>\n",
       "      <th>Benefits</th>\n",
       "      <th>TotalPay</th>\n",
       "      <th>TotalPayBenefits</th>\n",
       "      <th>Year</th>\n",
       "      <th>Notes</th>\n",
       "      <th>Agency</th>\n",
       "      <th>Status</th>\n",
       "    </tr>\n",
       "    <tr>\n",
       "      <th>Id</th>\n",
       "      <th></th>\n",
       "      <th></th>\n",
       "      <th></th>\n",
       "      <th></th>\n",
       "      <th></th>\n",
       "      <th></th>\n",
       "      <th></th>\n",
       "      <th></th>\n",
       "      <th></th>\n",
       "      <th></th>\n",
       "      <th></th>\n",
       "      <th></th>\n",
       "    </tr>\n",
       "  </thead>\n",
       "  <tbody>\n",
       "    <tr>\n",
       "      <th>1</th>\n",
       "      <td>NATHANIEL FORD</td>\n",
       "      <td>GENERAL MANAGER-METROPOLITAN TRANSIT AUTHORITY</td>\n",
       "      <td>167411</td>\n",
       "      <td>0</td>\n",
       "      <td>400184</td>\n",
       "      <td>NaN</td>\n",
       "      <td>567595.43</td>\n",
       "      <td>567595.43</td>\n",
       "      <td>2011</td>\n",
       "      <td>NaN</td>\n",
       "      <td>San Francisco</td>\n",
       "      <td>NaN</td>\n",
       "    </tr>\n",
       "    <tr>\n",
       "      <th>2</th>\n",
       "      <td>GARY JIMENEZ</td>\n",
       "      <td>CAPTAIN III (POLICE DEPARTMENT)</td>\n",
       "      <td>155966</td>\n",
       "      <td>245132</td>\n",
       "      <td>137811</td>\n",
       "      <td>NaN</td>\n",
       "      <td>538909.28</td>\n",
       "      <td>538909.28</td>\n",
       "      <td>2011</td>\n",
       "      <td>NaN</td>\n",
       "      <td>San Francisco</td>\n",
       "      <td>NaN</td>\n",
       "    </tr>\n",
       "  </tbody>\n",
       "</table>\n",
       "</div>"
      ],
      "text/plain": [
       "      EmployeeName                                        JobTitle BasePay  \\\n",
       "Id                                                                           \n",
       "1   NATHANIEL FORD  GENERAL MANAGER-METROPOLITAN TRANSIT AUTHORITY  167411   \n",
       "2     GARY JIMENEZ                 CAPTAIN III (POLICE DEPARTMENT)  155966   \n",
       "\n",
       "   OvertimePay OtherPay Benefits   TotalPay  TotalPayBenefits  Year  Notes  \\\n",
       "Id                                                                           \n",
       "1            0   400184      NaN  567595.43         567595.43  2011    NaN   \n",
       "2       245132   137811      NaN  538909.28         538909.28  2011    NaN   \n",
       "\n",
       "           Agency Status  \n",
       "Id                        \n",
       "1   San Francisco    NaN  \n",
       "2   San Francisco    NaN  "
      ]
     },
     "execution_count": 72,
     "metadata": {},
     "output_type": "execute_result"
    }
   ],
   "source": [
    "df[df.TotalPay>500000]              # print details of employees drawing TotalPay greater than 500000"
   ]
  },
  {
   "cell_type": "markdown",
   "metadata": {
    "collapsed": true
   },
   "source": [
    "Group by columns"
   ]
  },
  {
   "cell_type": "code",
   "execution_count": 73,
   "metadata": {},
   "outputs": [
    {
     "data": {
      "text/html": [
       "<div>\n",
       "<table border=\"1\" class=\"dataframe\">\n",
       "  <thead>\n",
       "    <tr style=\"text-align: right;\">\n",
       "      <th></th>\n",
       "      <th>TotalPay</th>\n",
       "      <th>TotalPayBenefits</th>\n",
       "      <th>Notes</th>\n",
       "    </tr>\n",
       "    <tr>\n",
       "      <th>Year</th>\n",
       "      <th></th>\n",
       "      <th></th>\n",
       "      <th></th>\n",
       "    </tr>\n",
       "  </thead>\n",
       "  <tbody>\n",
       "    <tr>\n",
       "      <th>2011</th>\n",
       "      <td>2.594195e+09</td>\n",
       "      <td>2.594195e+09</td>\n",
       "      <td>NaN</td>\n",
       "    </tr>\n",
       "    <tr>\n",
       "      <th>2012</th>\n",
       "      <td>2.724848e+09</td>\n",
       "      <td>3.696940e+09</td>\n",
       "      <td>NaN</td>\n",
       "    </tr>\n",
       "    <tr>\n",
       "      <th>2013</th>\n",
       "      <td>2.918656e+09</td>\n",
       "      <td>3.814772e+09</td>\n",
       "      <td>NaN</td>\n",
       "    </tr>\n",
       "    <tr>\n",
       "      <th>2014</th>\n",
       "      <td>2.876911e+09</td>\n",
       "      <td>3.821866e+09</td>\n",
       "      <td>NaN</td>\n",
       "    </tr>\n",
       "  </tbody>\n",
       "</table>\n",
       "</div>"
      ],
      "text/plain": [
       "          TotalPay  TotalPayBenefits  Notes\n",
       "Year                                       \n",
       "2011  2.594195e+09      2.594195e+09    NaN\n",
       "2012  2.724848e+09      3.696940e+09    NaN\n",
       "2013  2.918656e+09      3.814772e+09    NaN\n",
       "2014  2.876911e+09      3.821866e+09    NaN"
      ]
     },
     "execution_count": 73,
     "metadata": {},
     "output_type": "execute_result"
    }
   ],
   "source": [
    "df.groupby('Year').sum()"
   ]
  },
  {
   "cell_type": "markdown",
   "metadata": {
    "collapsed": true
   },
   "source": [
    "** Project selected columns **<br>\n",
    "Create a new data frame with specific coulmns"
   ]
  },
  {
   "cell_type": "code",
   "execution_count": 74,
   "metadata": {},
   "outputs": [
    {
     "name": "stdout",
     "output_type": "stream",
     "text": [
      "                  EmployeeName       BasePay\n",
      "Id                                          \n",
      "1               NATHANIEL FORD        167411\n",
      "2                 GARY JIMENEZ        155966\n",
      "3               ALBERT PARDINI        212739\n",
      "4            CHRISTOPHER CHONG         77916\n",
      "5              PATRICK GARDNER        134402\n",
      "6               DAVID SULLIVAN        118602\n",
      "7                    ALSON LEE         92492\n",
      "8                DAVID KUSHNER        256577\n",
      "9               MICHAEL MORRIS        176933\n",
      "10          JOANNE HAYES-WHITE        285262\n",
      "11               ARTHUR KENNEY        194999\n",
      "12            PATRICIA JACKSON         99722\n",
      "13           EDWARD HARRINGTON        294580\n",
      "14                 JOHN MARTIN        271329\n",
      "15              DAVID FRANKLIN        174873\n",
      "16             RICHARD CORRIEA        198778\n",
      "17                    AMY HART        268605\n",
      "18              SEBASTIAN WONG        140547\n",
      "19                  MARTY ROSS        168693\n",
      "20               ELLEN MOFFATT        257511\n",
      "21                  VENUS AZAR        257510\n",
      "22                JUDY MELINEK        257510\n",
      "23               GEORGE GARCIA        140547\n",
      "24               VICTOR WYRSCH        168693\n",
      "25             JOSEPH DRISCOLL        140547\n",
      "26                GREGORY SUHR        256470\n",
      "27                 JOHN HANLEY       92080.8\n",
      "28              RAYMOND GUZMAN        168693\n",
      "29              DENISE SCHMITT        261718\n",
      "30               MONICA FIELDS        246226\n",
      "...                        ...           ...\n",
      "148625      Lorraine Rosenthal          0.00\n",
      "148626         Renato C Gurion          0.00\n",
      "148627           Paulet Gaines          0.00\n",
      "148628        Brett A Lundberg          0.00\n",
      "148629          Mark W Mcclure          0.00\n",
      "148630       Elizabeth Iniguez          0.00\n",
      "148631            Randy J Keys          0.00\n",
      "148632         Andre M Johnson          0.00\n",
      "148633  Sharon D Owens-Webster          0.00\n",
      "148634        Edward Ferdinand          0.00\n",
      "148635          David M Turner          0.00\n",
      "148636     James S Kibblewhite          0.00\n",
      "148637           Andrew J Enzi          0.00\n",
      "148638        Kadeshra D Green          0.00\n",
      "148639    Lennard B Hutchinson          0.00\n",
      "148640       Richard A Talbert          0.00\n",
      "148641      Charlene D Mccully          0.00\n",
      "148642   Raphael Marquis Goins          0.00\n",
      "148643       Dominic C Marquez          0.00\n",
      "148644              Kim Brewer          0.00\n",
      "148645            Randy D Winn          0.00\n",
      "148646        Carolyn A Wilson          0.00\n",
      "148647            Not provided  Not Provided\n",
      "148648          Joann Anderson          0.00\n",
      "148649             Leon Walker          0.00\n",
      "148650           Roy I Tillery          0.00\n",
      "148651            Not provided  Not Provided\n",
      "148652            Not provided  Not Provided\n",
      "148653            Not provided  Not Provided\n",
      "148654               Joe Lopez          0.00\n",
      "\n",
      "[148654 rows x 2 columns]\n"
     ]
    }
   ],
   "source": [
    "print df.loc[:,['EmployeeName','BasePay']]"
   ]
  },
  {
   "cell_type": "code",
   "execution_count": 75,
   "metadata": {},
   "outputs": [
    {
     "data": {
      "text/html": [
       "<div>\n",
       "<table border=\"1\" class=\"dataframe\">\n",
       "  <thead>\n",
       "    <tr style=\"text-align: right;\">\n",
       "      <th></th>\n",
       "      <th>JobTitle</th>\n",
       "      <th>BasePay</th>\n",
       "    </tr>\n",
       "    <tr>\n",
       "      <th>Id</th>\n",
       "      <th></th>\n",
       "      <th></th>\n",
       "    </tr>\n",
       "  </thead>\n",
       "  <tbody>\n",
       "    <tr>\n",
       "      <th>1</th>\n",
       "      <td>GENERAL MANAGER-METROPOLITAN TRANSIT AUTHORITY</td>\n",
       "      <td>167411</td>\n",
       "    </tr>\n",
       "    <tr>\n",
       "      <th>2</th>\n",
       "      <td>CAPTAIN III (POLICE DEPARTMENT)</td>\n",
       "      <td>155966</td>\n",
       "    </tr>\n",
       "    <tr>\n",
       "      <th>3</th>\n",
       "      <td>CAPTAIN III (POLICE DEPARTMENT)</td>\n",
       "      <td>212739</td>\n",
       "    </tr>\n",
       "  </tbody>\n",
       "</table>\n",
       "</div>"
      ],
      "text/plain": [
       "                                          JobTitle BasePay\n",
       "Id                                                        \n",
       "1   GENERAL MANAGER-METROPOLITAN TRANSIT AUTHORITY  167411\n",
       "2                  CAPTAIN III (POLICE DEPARTMENT)  155966\n",
       "3                  CAPTAIN III (POLICE DEPARTMENT)  212739"
      ]
     },
     "execution_count": 75,
     "metadata": {},
     "output_type": "execute_result"
    }
   ],
   "source": [
    "#Use slicing\n",
    "df.iloc[:3,1:3]"
   ]
  },
  {
   "cell_type": "markdown",
   "metadata": {},
   "source": [
    "** Plot the Data** <br>\n",
    "Plot the average salary *vs.* year"
   ]
  },
  {
   "cell_type": "code",
   "execution_count": 76,
   "metadata": {},
   "outputs": [
    {
     "data": {
      "image/png": "[encoded data removed]",
      "text/plain": [
       "<matplotlib.figure.Figure at 0x7f5824f91610>"
      ]
     },
     "metadata": {},
     "output_type": "display_data"
    }
   ],
   "source": [
    "avg_sal=df.groupby('Year').mean()['TotalPay']\n",
    "#year=range(2011,2015)\n",
    "year = [d for d in set(df['Year'])]\n",
    "#my_xticks=range(2011,2015)\n",
    "my_xticks = year\n",
    "plt.xticks(year,my_xticks)\n",
    "plt.plot(year,avg_sal)\n",
    "plt.xlabel('Year')\n",
    "plt.ylabel('Avg_sal')\n",
    "plt.show()"
   ]
  },
  {
   "cell_type": "markdown",
   "metadata": {},
   "source": [
    "## Case Study - Sentiment Analysis\n",
    "Basically, sentiment analysis is a Natural Language Processing task, in which a given input text (generally review about products or films) is classified as positive or negative. It can be consider as a binary classification problem. <br>\n",
    "A system developed for semantic analysis will involve data collection pre-processing, feature extraction, training and learning model and testing. So we can divide the entire process into 2 stages: Training and Testing. Training involves collection of training data from different sources (like twitter, movie reviews, ...), pre-process the reviews and extract features. Then a classfier is used to fit the data into a model. <br>\n",
    "\n",
    "In, this tutorial, we will see how to perform simple sentiment analysis for movie review. For the simplicity, we made following assumptions in this work.<br>\n",
    "\n",
    "* ** Data: ** Here, we are using a sample data set review.csv. In actual work, you can get such review data sets from Twitter API, IMDB 5000 Movie Dataset, etc. The dataset have 2 fields, review and class(positive and negative). The review may contain HTML tags.\n",
    "* **Preprocessing** Actual preprocessing involves a pipeline of NLP taks like text cleaning, tokenization, stop word removal, stemming, lemmatization,etc.. In this tutorial, we will only do the cleaning process, by removing tags by Beautyflsoup and stopword removal using NLTK. [Other steps can be performed efficiently by poupal NLTK package](http://www.nltk.org/book/ch03.html). \n",
    "\n",
    "The steps involved in sentiment analysis is shown in below figure.\n",
    "<img src=\"overview.png\">\n",
    "\n",
    "### Import necessary Packages\n",
    "This program will use packages pandas, numpy, matplotlib, nltk, scikitlearn etc"
   ]
  },
  {
   "cell_type": "code",
   "execution_count": 77,
   "metadata": {
    "collapsed": true
   },
   "outputs": [],
   "source": [
    "from sklearn.feature_extraction.text import CountVectorizer #Convert a collection of text documents to a matrix of token counts\n",
    "from sklearn.feature_extraction.text import TfidfVectorizer #Convert a collection of raw documents to a matrix of TF-IDF features.\n",
    "from bs4 import BeautifulSoup\n",
    "from nltk.corpus import stopwords\n",
    "\n",
    "#importing necessary algorithms in sklearn for text classification\n",
    "from sklearn.ensemble import RandomForestClassifier\n",
    "from sklearn.linear_model.logistic import LogisticRegression\n",
    "from sklearn.linear_model import  LinearRegression\n",
    "from sklearn.neighbors import KNeighborsClassifier\n",
    "from sklearn.naive_bayes import BernoulliNB\n",
    "from sklearn import metrics\n",
    "from sklearn.metrics import accuracy_score"
   ]
  },
  {
   "cell_type": "code",
   "execution_count": 78,
   "metadata": {},
   "outputs": [
    {
     "data": {
      "text/html": [
       "<div>\n",
       "<table border=\"1\" class=\"dataframe\">\n",
       "  <thead>\n",
       "    <tr style=\"text-align: right;\">\n",
       "      <th></th>\n",
       "      <th>review</th>\n",
       "      <th>class</th>\n",
       "    </tr>\n",
       "  </thead>\n",
       "  <tbody>\n",
       "    <tr>\n",
       "      <th>0</th>\n",
       "      <td>This movie is really not all that bad. But the...</td>\n",
       "      <td>positive</td>\n",
       "    </tr>\n",
       "    <tr>\n",
       "      <th>1</th>\n",
       "      <td>Vanilla Sky was a wonderfully thought out movi...</td>\n",
       "      <td>positive</td>\n",
       "    </tr>\n",
       "  </tbody>\n",
       "</table>\n",
       "</div>"
      ],
      "text/plain": [
       "                                              review     class\n",
       "0  This movie is really not all that bad. But the...  positive\n",
       "1  Vanilla Sky was a wonderfully thought out movi...  positive"
      ]
     },
     "execution_count": 78,
     "metadata": {},
     "output_type": "execute_result"
    }
   ],
   "source": [
    "review=pd.read_csv('review.csv')\n",
    "review.head(2)\n",
    "#review.tail(3)"
   ]
  },
  {
   "cell_type": "code",
   "execution_count": 79,
   "metadata": {},
   "outputs": [
    {
     "data": {
      "text/plain": [
       "\"This movie is really not all that bad. But then again, this movie genre is right down my alley. Sure, the sets are cheap, but they really did decent with what they had. <br /><br />If you like cheap, futuristic, post-apocalyptic B movies, then you'll love this one!! I sure did!<br /><br />\""
      ]
     },
     "execution_count": 79,
     "metadata": {},
     "output_type": "execute_result"
    }
   ],
   "source": [
    "# Print sample review\n",
    "review[\"review\"][0]"
   ]
  },
  {
   "cell_type": "code",
   "execution_count": 80,
   "metadata": {},
   "outputs": [
    {
     "data": {
      "text/html": [
       "<div>\n",
       "<table border=\"1\" class=\"dataframe\">\n",
       "  <thead>\n",
       "    <tr style=\"text-align: right;\">\n",
       "      <th></th>\n",
       "      <th>review</th>\n",
       "      <th>class</th>\n",
       "    </tr>\n",
       "  </thead>\n",
       "  <tbody>\n",
       "    <tr>\n",
       "      <th>0</th>\n",
       "      <td>This movie is really not all that bad. But the...</td>\n",
       "      <td>positive</td>\n",
       "    </tr>\n",
       "    <tr>\n",
       "      <th>1</th>\n",
       "      <td>Vanilla Sky was a wonderfully thought out movi...</td>\n",
       "      <td>positive</td>\n",
       "    </tr>\n",
       "    <tr>\n",
       "      <th>2</th>\n",
       "      <td>Joseph Brady and Clarence Doolittle are two sa...</td>\n",
       "      <td>positive</td>\n",
       "    </tr>\n",
       "    <tr>\n",
       "      <th>3</th>\n",
       "      <td>10 ITEMS OR LESS was made in two weeks on a sh...</td>\n",
       "      <td>positive</td>\n",
       "    </tr>\n",
       "  </tbody>\n",
       "</table>\n",
       "</div>"
      ],
      "text/plain": [
       "                                              review     class\n",
       "0  This movie is really not all that bad. But the...  positive\n",
       "1  Vanilla Sky was a wonderfully thought out movi...  positive\n",
       "2  Joseph Brady and Clarence Doolittle are two sa...  positive\n",
       "3  10 ITEMS OR LESS was made in two weeks on a sh...  positive"
      ]
     },
     "execution_count": 80,
     "metadata": {},
     "output_type": "execute_result"
    }
   ],
   "source": [
    "#Positive Review\n",
    "pos_review=review[review['class'] == \"positive\"]\n",
    "pos_review.head(4)"
   ]
  },
  {
   "cell_type": "code",
   "execution_count": 81,
   "metadata": {},
   "outputs": [
    {
     "data": {
      "text/html": [
       "<div>\n",
       "<table border=\"1\" class=\"dataframe\">\n",
       "  <thead>\n",
       "    <tr style=\"text-align: right;\">\n",
       "      <th></th>\n",
       "      <th>review</th>\n",
       "      <th>class</th>\n",
       "    </tr>\n",
       "  </thead>\n",
       "  <tbody>\n",
       "    <tr>\n",
       "      <th>959</th>\n",
       "      <td>I am so appalled by this documentary. I am dee...</td>\n",
       "      <td>negative</td>\n",
       "    </tr>\n",
       "    <tr>\n",
       "      <th>960</th>\n",
       "      <td>This must be accompanied by a special rating a...</td>\n",
       "      <td>negative</td>\n",
       "    </tr>\n",
       "    <tr>\n",
       "      <th>961</th>\n",
       "      <td>This film, once sensational for its forward-th...</td>\n",
       "      <td>negative</td>\n",
       "    </tr>\n",
       "    <tr>\n",
       "      <th>962</th>\n",
       "      <td>First off, the title character is not even the...</td>\n",
       "      <td>negative</td>\n",
       "    </tr>\n",
       "  </tbody>\n",
       "</table>\n",
       "</div>"
      ],
      "text/plain": [
       "                                                review     class\n",
       "959  I am so appalled by this documentary. I am dee...  negative\n",
       "960  This must be accompanied by a special rating a...  negative\n",
       "961  This film, once sensational for its forward-th...  negative\n",
       "962  First off, the title character is not even the...  negative"
      ]
     },
     "execution_count": 81,
     "metadata": {},
     "output_type": "execute_result"
    }
   ],
   "source": [
    "#Negative review\n",
    "neg_reviews=review[review['class'] == \"negative\"]\n",
    "neg_reviews.head(4)"
   ]
  },
  {
   "cell_type": "raw",
   "metadata": {},
   "source": [
    "len(review), len(review.dtypes)"
   ]
  },
  {
   "cell_type": "markdown",
   "metadata": {},
   "source": [
    "### Missing Data\n",
    "There may be some row with missing values (nan). In this analysis, we will remove such rows."
   ]
  },
  {
   "cell_type": "code",
   "execution_count": 82,
   "metadata": {},
   "outputs": [
    {
     "data": {
      "text/plain": [
       "1959"
      ]
     },
     "execution_count": 82,
     "metadata": {},
     "output_type": "execute_result"
    }
   ],
   "source": [
    "#Remove Missing Data\n",
    "review.apply(lambda x: sum(x.isnull()),axis=0) \n",
    "review= review.dropna() \n",
    "len(review)"
   ]
  },
  {
   "cell_type": "markdown",
   "metadata": {},
   "source": [
    "# Take the Trainig dataset\n",
    "We are going to partition the dataset into training and testing data set. "
   ]
  },
  {
   "cell_type": "code",
   "execution_count": 83,
   "metadata": {},
   "outputs": [
    {
     "data": {
      "text/plain": [
       "(1567, 2)"
      ]
     },
     "execution_count": 83,
     "metadata": {},
     "output_type": "execute_result"
    }
   ],
   "source": [
    "training_dataset=review.iloc[:int(len(review)*0.8),:]\n",
    "len(training_dataset), len(training_dataset.dtypes)"
   ]
  },
  {
   "cell_type": "code",
   "execution_count": 84,
   "metadata": {},
   "outputs": [
    {
     "data": {
      "text/plain": [
       "(391, 2)"
      ]
     },
     "execution_count": 84,
     "metadata": {},
     "output_type": "execute_result"
    }
   ],
   "source": [
    "# Testing set\n",
    "testing_dataset=review.iloc[int(len(review)*0.8)+1:,:]\n",
    "testing_dataset = testing_dataset.reset_index(drop=True)\n",
    "len(testing_dataset), len(testing_dataset.dtypes)"
   ]
  },
  {
   "cell_type": "markdown",
   "metadata": {},
   "source": [
    "### Remove unwanted tags \n",
    "Clean the text using Beautifulsoup"
   ]
  },
  {
   "cell_type": "code",
   "execution_count": 85,
   "metadata": {},
   "outputs": [
    {
     "name": "stdout",
     "output_type": "stream",
     "text": [
      "Before cleaning:******** \n",
      "This movie is really not all that bad. But then again, this movie genre is right down my alley. Sure, the sets are cheap, but they really did decent with what they had. <br /><br />If you like cheap, futuristic, post-apocalyptic B movies, then you'll love this one!! I sure did!<br /><br />\n"
     ]
    },
    {
     "name": "stderr",
     "output_type": "stream",
     "text": [
      "/usr/local/lib/python2.7/dist-packages/bs4/__init__.py:181: UserWarning: No parser was explicitly specified, so I'm using the best available HTML parser for this system (\"lxml\"). This usually isn't a problem, but if you run this code on another system, or in a different virtual environment, it may use a different parser and behave differently.\n",
      "\n",
      "The code that caused this warning is on line 174 of the file /usr/lib/python2.7/runpy.py. To get rid of this warning, change code that looks like this:\n",
      "\n",
      " BeautifulSoup(YOUR_MARKUP})\n",
      "\n",
      "to this:\n",
      "\n",
      " BeautifulSoup(YOUR_MARKUP, \"lxml\")\n",
      "\n",
      "  markup_type=markup_type))\n"
     ]
    },
    {
     "name": "stdout",
     "output_type": "stream",
     "text": [
      "\n",
      "After cleaning:*********\n",
      "This movie is really not all that bad. But then again, this movie genre is right down my alley. Sure, the sets are cheap, but they really did decent with what they had. If you like cheap, futuristic, post-apocalyptic B movies, then you'll love this one!! I sure did!\n"
     ]
    }
   ],
   "source": [
    "print \"Before cleaning:******** \\n\",training_dataset[\"review\"][0]\n",
    "\n",
    "train_data=[BeautifulSoup(i).get_text() for i in training_dataset['review'] ]\n",
    "\n",
    "print \"\\nAfter cleaning:*********\\n\", train_data[0]"
   ]
  },
  {
   "cell_type": "markdown",
   "metadata": {},
   "source": [
    "### Preprocessing\n",
    "In this step, we will remove unnecessary words- stop words from the training data. For this we are using NLTK."
   ]
  },
  {
   "cell_type": "code",
   "execution_count": 86,
   "metadata": {},
   "outputs": [
    {
     "name": "stdout",
     "output_type": "stream",
     "text": [
      "This movie really bad. But again, movie genre right alley. Sure, sets cheap, really decent had. If like cheap, futuristic, post-apocalyptic B movies, you'll love one!! I sure did!\n"
     ]
    }
   ],
   "source": [
    "for i in range(len(train_data)):\n",
    "    words=train_data[i].split()\n",
    "    meaningful_words = [w for w in words if not w in stopwords.words(\"english\")]\n",
    "    train_data[i]=\" \".join( meaningful_words )\n",
    "print train_data[0]"
   ]
  },
  {
   "cell_type": "markdown",
   "metadata": {},
   "source": [
    "### Prepare the training Feature set\n",
    "* vectorize the training data (word vector)\n",
    "* We are using tf-idf model (Term Frequency and Inverse Document Frequency), model for word vectorization and feature extraction."
   ]
  },
  {
   "cell_type": "code",
   "execution_count": 87,
   "metadata": {
    "collapsed": true
   },
   "outputs": [],
   "source": [
    "vectorizer=TfidfVectorizer(analyzer=\"word\", ngram_range=(1,3), max_features=5000)"
   ]
  },
  {
   "cell_type": "code",
   "execution_count": 88,
   "metadata": {},
   "outputs": [
    {
     "data": {
      "text/plain": [
       "(1567, 5000)"
      ]
     },
     "execution_count": 88,
     "metadata": {},
     "output_type": "execute_result"
    }
   ],
   "source": [
    "train_data_features = vectorizer.fit_transform(train_data) #fit the model\n",
    "train_data_features = train_data_features.toarray() #convert to array\n",
    "train_data_features.shape"
   ]
  },
  {
   "cell_type": "markdown",
   "metadata": {},
   "source": [
    "### Prepare a classification model\n",
    "In this example we are using Logistic Regression model."
   ]
  },
  {
   "cell_type": "code",
   "execution_count": 89,
   "metadata": {
    "collapsed": true
   },
   "outputs": [],
   "source": [
    "#Prepare a classification model\n",
    "classifier = LogisticRegression() #lets take LogisticRegression algorithm for classifying the text\n",
    "classifier = classifier.fit( train_data_features, training_dataset[\"class\"] )"
   ]
  },
  {
   "cell_type": "markdown",
   "metadata": {},
   "source": [
    "### Testing\n",
    "For testing you have to take review which is not in your trainig sample. Then repeate all the preprocessing steps as in training and get the test feature set. Then apply the learned classifier on this test feature set, for prediction. Compare the predicted output with actual one, to know the accuray."
   ]
  },
  {
   "cell_type": "code",
   "execution_count": 90,
   "metadata": {
    "collapsed": true
   },
   "outputs": [],
   "source": [
    "#test_data=[BeautifulSoup(testing_dataset['review'][0]).get_text()]\n",
    "\n",
    "#words=test_data[0].split()\n",
    "#meaningful_words = [w for w in words if not w in stopwords.words(\"english\")]\n",
    "#test_data=[\" \".join( meaningful_words )]\n",
    "\n",
    "#test_data_features = vectorizer.transform(test_data)\n",
    "#test_data_features\n",
    "\n",
    "#test_data_features = test_data_features.toarray()\n",
    "#print test_data_features.shape\n",
    "\n",
    "#print testing_dataset['class'][0]\n",
    "#result = classifier.predict(test_data_features)\n",
    "#result"
   ]
  },
  {
   "cell_type": "code",
   "execution_count": 91,
   "metadata": {},
   "outputs": [
    {
     "name": "stdout",
     "output_type": "stream",
     "text": [
      "(391, 5000)\n",
      "The accuracy score is 60.87%\n"
     ]
    }
   ],
   "source": [
    "#test_review=pd.read_csv(\"100Sets.tsv\",header=0, delimiter=\"\\t\")\n",
    "test_data=[BeautifulSoup(i).get_text() for i in testing_dataset['review'] ]\n",
    "\n",
    "for i in range(len(test_data)):\n",
    "    words=test_data[i].split()\n",
    "    meaningful_words = [w for w in words if not w in stopwords.words(\"english\")]\n",
    "    test_data[i]=\" \".join( meaningful_words )\n",
    "    \n",
    "test_data_features = vectorizer.transform(test_data)\n",
    "test_data_features = test_data_features.toarray()\n",
    "print test_data_features.shape\n",
    "result = classifier.predict(test_data_features)\n",
    "actual= testing_dataset['class'] \n",
    "print \"The accuracy score is {:.2%}\".format(accuracy_score(result,actual))"
   ]
  },
  {
   "cell_type": "markdown",
   "metadata": {},
   "source": [
    "## References\n",
    "* Wes McKinney, [**Python for Data Analysis**](www3.canisius.edu/~yany/python/Python4DataAnalysis.pdf) .  O'Reilly Media.\n",
    "* A Complete Tutorial to Learn Data Science with Python from Scratch, [Analytic Vidya](https://www.analyticsvidhya.com/blog/2016/01/complete-tutorial-learn-data-science-python-scratch-2/)\n",
    "* Course Material of [Applied Data Science with Python](https://www.coursera.org/specializations/data-science-python)\n",
    "* [Anaconda and Jupyter installation](https://www.continuum.io/downloads)\n",
    "* [PANDAS: Python Data Analysis Library](http://pandas.pydata.org/)\n",
    "* [Numpy Tutorial](http://cs231n.github.io/python-numpy-tutorial/#numpy)"
   ]
  }
 ],
 "metadata": {
  "kernelspec": {
   "display_name": "Python 2",
   "language": "python",
   "name": "python2"
  },
  "language_info": {
   "codemirror_mode": {
    "name": "ipython",
    "version": 2
   },
   "file_extension": ".py",
   "mimetype": "text/x-python",
   "name": "python",
   "nbconvert_exporter": "python",
   "pygments_lexer": "ipython2",
   "version": "2.7.12"
  }
 },
 "nbformat": 4,
 "nbformat_minor": 2
}
